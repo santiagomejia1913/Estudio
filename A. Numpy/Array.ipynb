{
  "nbformat": 4,
  "nbformat_minor": 0,
  "metadata": {
    "colab": {
      "provenance": []
    },
    "kernelspec": {
      "name": "python3",
      "display_name": "Python 3"
    },
    "language_info": {
      "name": "python"
    }
  },
  "cells": [
    {
      "cell_type": "markdown",
      "source": [
        "# Practica Basica Numpy"
      ],
      "metadata": {
        "id": "DGY_orNuM7RD"
      }
    },
    {
      "cell_type": "code",
      "execution_count": null,
      "metadata": {
        "id": "7WUBDyWdHBfl"
      },
      "outputs": [],
      "source": [
        "import numpy as np"
      ]
    },
    {
      "cell_type": "code",
      "source": [
        "lista=[1,2,3,4,5,6,7,8,9]"
      ],
      "metadata": {
        "id": "ywSOkktsHFtN"
      },
      "execution_count": null,
      "outputs": []
    },
    {
      "cell_type": "markdown",
      "source": [
        "El array es el principal objeto de la librería. Representa datos de manera estructurada y se puede acceder a ellos a traves del indexado, a un dato específico o un grupo de muchos datos específicos."
      ],
      "metadata": {
        "id": "qbjsTmN6M1ua"
      }
    },
    {
      "cell_type": "code",
      "source": [
        "# Llevar una lista de python a un array de numpy\n",
        "arr = np.array(lista)"
      ],
      "metadata": {
        "id": "7m1c7zO3HNAV"
      },
      "execution_count": null,
      "outputs": []
    },
    {
      "cell_type": "code",
      "source": [
        "type(arr)"
      ],
      "metadata": {
        "colab": {
          "base_uri": "https://localhost:8080/"
        },
        "id": "OzJhg_uLHSWx",
        "outputId": "56c6d399-2920-4bd0-8521-6e5731b7de74"
      },
      "execution_count": null,
      "outputs": [
        {
          "output_type": "execute_result",
          "data": {
            "text/plain": [
              "numpy.ndarray"
            ]
          },
          "metadata": {},
          "execution_count": 7
        }
      ]
    },
    {
      "cell_type": "code",
      "source": [
        "arr"
      ],
      "metadata": {
        "colab": {
          "base_uri": "https://localhost:8080/"
        },
        "id": "Zezm0cAyHg1N",
        "outputId": "c34d29b4-0523-4874-e9d6-fd573d5b9264"
      },
      "execution_count": null,
      "outputs": [
        {
          "output_type": "execute_result",
          "data": {
            "text/plain": [
              "array([1, 2, 3, 4, 5, 6, 7, 8, 9])"
            ]
          },
          "metadata": {},
          "execution_count": 8
        }
      ]
    },
    {
      "cell_type": "markdown",
      "source": [
        "Generar un matriz en Numpy"
      ],
      "metadata": {
        "id": "_TQ-JtWyH4ld"
      }
    },
    {
      "cell_type": "code",
      "source": [
        "matriz = [[1,2,3],[4,5,6],[7,8,9]]\n",
        "matriz = np.array(matriz)\n",
        "matriz"
      ],
      "metadata": {
        "colab": {
          "base_uri": "https://localhost:8080/"
        },
        "id": "i-2W6g-9HlgB",
        "outputId": "99179e99-170e-48e2-9d67-b62e5c414246"
      },
      "execution_count": null,
      "outputs": [
        {
          "output_type": "execute_result",
          "data": {
            "text/plain": [
              "array([[1, 2, 3],\n",
              "       [4, 5, 6],\n",
              "       [7, 8, 9]])"
            ]
          },
          "metadata": {},
          "execution_count": 9
        }
      ]
    },
    {
      "cell_type": "markdown",
      "source": [
        "## Indexado Arrays y Matrices"
      ],
      "metadata": {
        "id": "GiEt0AZ1IEaP"
      }
    },
    {
      "cell_type": "markdown",
      "source": [
        "El indexado nos permite acceder a los elementos de los array y matrices\n",
        "Los elementos se emepiezan a contar desde 0."
      ],
      "metadata": {
        "id": "nil86XU6NDkQ"
      }
    },
    {
      "cell_type": "code",
      "source": [
        "arr"
      ],
      "metadata": {
        "colab": {
          "base_uri": "https://localhost:8080/"
        },
        "id": "FPoI1Uf3IYrg",
        "outputId": "209cb893-d734-4b89-fbde-9bfab952f67b"
      },
      "execution_count": null,
      "outputs": [
        {
          "output_type": "execute_result",
          "data": {
            "text/plain": [
              "array([1, 2, 3, 4, 5, 6, 7, 8, 9])"
            ]
          },
          "metadata": {},
          "execution_count": 12
        }
      ]
    },
    {
      "cell_type": "code",
      "source": [
        "arr[0]"
      ],
      "metadata": {
        "colab": {
          "base_uri": "https://localhost:8080/"
        },
        "id": "LdYdx7qoH9_0",
        "outputId": "56168e38-dd48-4d8c-c858-dffa761c435d"
      },
      "execution_count": null,
      "outputs": [
        {
          "output_type": "execute_result",
          "data": {
            "text/plain": [
              "1"
            ]
          },
          "metadata": {},
          "execution_count": 10
        }
      ]
    },
    {
      "cell_type": "markdown",
      "source": [
        "Es posible operar directamente con los elementos."
      ],
      "metadata": {
        "id": "9EeeA1UpNLqQ"
      }
    },
    {
      "cell_type": "code",
      "source": [
        "arr[0] + arr[5]"
      ],
      "metadata": {
        "colab": {
          "base_uri": "https://localhost:8080/"
        },
        "id": "H15OCbRQNHo4",
        "outputId": "b652dd50-b4b6-49a4-9933-830aa91756a5"
      },
      "execution_count": null,
      "outputs": [
        {
          "output_type": "execute_result",
          "data": {
            "text/plain": [
              "7"
            ]
          },
          "metadata": {},
          "execution_count": 30
        }
      ]
    },
    {
      "cell_type": "code",
      "source": [
        "matriz"
      ],
      "metadata": {
        "colab": {
          "base_uri": "https://localhost:8080/"
        },
        "id": "Wj8X4yTAIZsH",
        "outputId": "7d92a0e4-c15f-4665-c93c-04c2e3e100cb"
      },
      "execution_count": null,
      "outputs": [
        {
          "output_type": "execute_result",
          "data": {
            "text/plain": [
              "array([[1, 2, 3],\n",
              "       [4, 5, 6],\n",
              "       [7, 8, 9]])"
            ]
          },
          "metadata": {},
          "execution_count": 13
        }
      ]
    },
    {
      "cell_type": "markdown",
      "source": [
        "En el caso de las matrices al indezar una posición se regresa el array de dicha posición."
      ],
      "metadata": {
        "id": "Mtg6rlRxNTSv"
      }
    },
    {
      "cell_type": "code",
      "source": [
        "matriz[0]"
      ],
      "metadata": {
        "colab": {
          "base_uri": "https://localhost:8080/"
        },
        "id": "0iaIyUgqICUI",
        "outputId": "9fdef602-bb35-4ab6-9d1c-12d5b41222d4"
      },
      "execution_count": null,
      "outputs": [
        {
          "output_type": "execute_result",
          "data": {
            "text/plain": [
              "array([1, 2, 3])"
            ]
          },
          "metadata": {},
          "execution_count": 11
        }
      ]
    },
    {
      "cell_type": "markdown",
      "source": [
        "Para seleccionar un solo elemento de la matriz se especifica la posición del elemento separada por comas."
      ],
      "metadata": {
        "id": "kiumFFYyNWqH"
      }
    },
    {
      "cell_type": "code",
      "source": [
        "matriz[0,2]"
      ],
      "metadata": {
        "colab": {
          "base_uri": "https://localhost:8080/"
        },
        "id": "uQHDy3hqIVEJ",
        "outputId": "d1e44e53-4f8d-41fa-affd-ed69b5bffef0"
      },
      "execution_count": null,
      "outputs": [
        {
          "output_type": "execute_result",
          "data": {
            "text/plain": [
              "3"
            ]
          },
          "metadata": {},
          "execution_count": 14
        }
      ]
    },
    {
      "cell_type": "markdown",
      "source": [
        "## Slicing"
      ],
      "metadata": {
        "id": "7sXeU4R9IuZ9"
      }
    },
    {
      "cell_type": "markdown",
      "source": [
        "El slicing nos permite extraer varios datos, tiene un comienzo y un final."
      ],
      "metadata": {
        "id": "DwNDJRpoNckB"
      }
    },
    {
      "cell_type": "code",
      "source": [
        "arr"
      ],
      "metadata": {
        "colab": {
          "base_uri": "https://localhost:8080/"
        },
        "id": "jYriIxYvIiId",
        "outputId": "3004f7fe-b47c-475b-8554-41540d709b26"
      },
      "execution_count": null,
      "outputs": [
        {
          "output_type": "execute_result",
          "data": {
            "text/plain": [
              "array([1, 2, 3, 4, 5, 6, 7, 8, 9])"
            ]
          },
          "metadata": {},
          "execution_count": 15
        }
      ]
    },
    {
      "cell_type": "markdown",
      "source": [
        "En este ejemplo se está extrayendo datos desde la posición 0 hasta la 5. [1:6]."
      ],
      "metadata": {
        "id": "uaE37bFwNl3A"
      }
    },
    {
      "cell_type": "code",
      "source": [
        "arr[0:6]"
      ],
      "metadata": {
        "colab": {
          "base_uri": "https://localhost:8080/"
        },
        "id": "bvLbLPPqIp9Y",
        "outputId": "b9e7f464-6e61-4b0b-e26a-13a3964f171f"
      },
      "execution_count": null,
      "outputs": [
        {
          "output_type": "execute_result",
          "data": {
            "text/plain": [
              "array([1, 2, 3, 4, 5, 6])"
            ]
          },
          "metadata": {},
          "execution_count": 17
        }
      ]
    },
    {
      "cell_type": "markdown",
      "source": [
        "Si no se ingresa el valor de Start se toma el incio como la posición 0."
      ],
      "metadata": {
        "id": "9Kpvw0swNqs_"
      }
    },
    {
      "cell_type": "code",
      "source": [
        "arr[:6] #Puntos al comienzo significa que comience en el inicio hasta el punto de referencia final (en este caso el Nro 6)"
      ],
      "metadata": {
        "colab": {
          "base_uri": "https://localhost:8080/"
        },
        "id": "w2VFh1JeI0S3",
        "outputId": "70f20c31-06c3-42de-d462-3c782a989fcd"
      },
      "execution_count": null,
      "outputs": [
        {
          "output_type": "execute_result",
          "data": {
            "text/plain": [
              "array([1, 2, 3, 4, 5, 6])"
            ]
          },
          "metadata": {},
          "execution_count": 18
        }
      ]
    },
    {
      "cell_type": "markdown",
      "source": [
        "En cambio si no se le da una posción de End se regresan todos los elementos hasta el final del array."
      ],
      "metadata": {
        "id": "l8z0iGKNNtjg"
      }
    },
    {
      "cell_type": "code",
      "source": [
        "arr[2:] #Puntos al final significa que vaya hasta el final teniendo en cuenta la referencia de inicio (en este caso el Nro 2)"
      ],
      "metadata": {
        "colab": {
          "base_uri": "https://localhost:8080/"
        },
        "id": "WLBb8gTHJEaQ",
        "outputId": "1f196e99-63b2-4060-c8c0-284047126f65"
      },
      "execution_count": null,
      "outputs": [
        {
          "output_type": "execute_result",
          "data": {
            "text/plain": [
              "array([3, 4, 5, 6, 7, 8, 9])"
            ]
          },
          "metadata": {},
          "execution_count": 19
        }
      ]
    },
    {
      "cell_type": "markdown",
      "source": [
        "También se puede trabajar por pasos.\n",
        "En este ejemplo de 3 en 3.\n",
        "Regresa la posición 0, 0 + 3, 3 + 3 y como no hay posición 6 + 3, no se regrese nada."
      ],
      "metadata": {
        "id": "8_EStaLvNxm_"
      }
    },
    {
      "cell_type": "code",
      "source": [
        "arr[::3] #Toma los elementos de 3 en 3. "
      ],
      "metadata": {
        "colab": {
          "base_uri": "https://localhost:8080/"
        },
        "id": "NulSC051JGfZ",
        "outputId": "5c98acff-a636-4cf1-9ee6-75f017e9e81c"
      },
      "execution_count": null,
      "outputs": [
        {
          "output_type": "execute_result",
          "data": {
            "text/plain": [
              "array([1, 4, 7])"
            ]
          },
          "metadata": {},
          "execution_count": 21
        }
      ]
    },
    {
      "cell_type": "markdown",
      "source": [
        "Cuando se le asigna un valor negativo se regresan los valores comenzando desde la última posición del array."
      ],
      "metadata": {
        "id": "G3xAsmcLN1PR"
      }
    },
    {
      "cell_type": "code",
      "source": [
        "arr[-1] # Toma el primer valor pero del final"
      ],
      "metadata": {
        "colab": {
          "base_uri": "https://localhost:8080/"
        },
        "id": "uoqyRfGMKNZt",
        "outputId": "38709b7d-9c7e-4366-927d-b465b4558b26"
      },
      "execution_count": null,
      "outputs": [
        {
          "output_type": "execute_result",
          "data": {
            "text/plain": [
              "9"
            ]
          },
          "metadata": {},
          "execution_count": 22
        }
      ]
    },
    {
      "cell_type": "code",
      "source": [
        "arr[-3:] # Toma los ultimos 3 valores"
      ],
      "metadata": {
        "colab": {
          "base_uri": "https://localhost:8080/"
        },
        "id": "ftbRLBkpKdaa",
        "outputId": "37627f6f-25a4-4e57-bf0d-415151d9e99a"
      },
      "execution_count": null,
      "outputs": [
        {
          "output_type": "execute_result",
          "data": {
            "text/plain": [
              "array([7, 8, 9])"
            ]
          },
          "metadata": {},
          "execution_count": 23
        }
      ]
    },
    {
      "cell_type": "code",
      "source": [
        "matriz"
      ],
      "metadata": {
        "colab": {
          "base_uri": "https://localhost:8080/"
        },
        "id": "2mEx7XzvKiBm",
        "outputId": "7d2ec741-b972-4595-c500-823f0f25f7a8"
      },
      "execution_count": null,
      "outputs": [
        {
          "output_type": "execute_result",
          "data": {
            "text/plain": [
              "array([[1, 2, 3],\n",
              "       [4, 5, 6],\n",
              "       [7, 8, 9]])"
            ]
          },
          "metadata": {},
          "execution_count": 24
        }
      ]
    },
    {
      "cell_type": "markdown",
      "source": [
        "Para el caso de las matrices sucede algo similar.\n",
        "Para acceder a los valores a nivel de filas."
      ],
      "metadata": {
        "id": "RE08qQRiN4zQ"
      }
    },
    {
      "cell_type": "code",
      "source": [
        "matriz[1:] #Tomar la matriz desde la fila 1."
      ],
      "metadata": {
        "colab": {
          "base_uri": "https://localhost:8080/"
        },
        "id": "G4MnXY-_Kocw",
        "outputId": "2bd486b4-0db3-400b-ba34-1afce3beccea"
      },
      "execution_count": null,
      "outputs": [
        {
          "output_type": "execute_result",
          "data": {
            "text/plain": [
              "array([[4, 5, 6],\n",
              "       [7, 8, 9]])"
            ]
          },
          "metadata": {},
          "execution_count": 25
        }
      ]
    },
    {
      "cell_type": "markdown",
      "source": [
        "Para acceder a los valores a nivel de filas y columnas."
      ],
      "metadata": {
        "id": "adjA90jVN8L3"
      }
    },
    {
      "cell_type": "code",
      "source": [
        "matriz[1:,0:2] #Tomar todas las filas a partir de la 1 y solo las columna 0 y 1. "
      ],
      "metadata": {
        "colab": {
          "base_uri": "https://localhost:8080/"
        },
        "id": "_EHRaB1wKsaa",
        "outputId": "73569dbb-fa26-4eae-ca5d-006afabd2779"
      },
      "execution_count": null,
      "outputs": [
        {
          "output_type": "execute_result",
          "data": {
            "text/plain": [
              "array([[4, 5],\n",
              "       [7, 8]])"
            ]
          },
          "metadata": {},
          "execution_count": 26
        }
      ]
    },
    {
      "cell_type": "code",
      "source": [
        "matriz[:,2] # Tomar ultima columna"
      ],
      "metadata": {
        "colab": {
          "base_uri": "https://localhost:8080/"
        },
        "id": "Ua7AEnaqK0aj",
        "outputId": "f653f3d0-b3fc-4e25-a96f-b1fd7a281deb"
      },
      "execution_count": null,
      "outputs": [
        {
          "output_type": "execute_result",
          "data": {
            "text/plain": [
              "array([3, 6, 9])"
            ]
          },
          "metadata": {},
          "execution_count": 29
        }
      ]
    },
    {
      "cell_type": "code",
      "source": [],
      "metadata": {
        "id": "771uW2g_LArK"
      },
      "execution_count": null,
      "outputs": []
    }
  ]
}
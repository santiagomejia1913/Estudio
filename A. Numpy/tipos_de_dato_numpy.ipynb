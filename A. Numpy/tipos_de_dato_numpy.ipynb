{
  "nbformat": 4,
  "nbformat_minor": 0,
  "metadata": {
    "colab": {
      "name": "tipos_de_dato_numpy.ipynb",
      "provenance": [],
      "toc_visible": true
    },
    "kernelspec": {
      "name": "python3",
      "display_name": "Python 3"
    },
    "language_info": {
      "name": "python"
    }
  },
  "cells": [
    {
      "cell_type": "markdown",
      "source": [
        "# NUMPY"
      ],
      "metadata": {
        "id": "F_wuTDGrZW3z"
      }
    },
    {
      "cell_type": "markdown",
      "source": [
        "## Generación Array y Matriz"
      ],
      "metadata": {
        "id": "Qr433nyFZuxO"
      }
    },
    {
      "cell_type": "code",
      "source": [
        "import numpy as np"
      ],
      "metadata": {
        "id": "K9rlApNBZ1zt"
      },
      "execution_count": null,
      "outputs": []
    },
    {
      "cell_type": "code",
      "source": [
        "lista=[1,2,3,4,5,6,7,8,9]"
      ],
      "metadata": {
        "id": "tjhhA-OyZ1xo"
      },
      "execution_count": null,
      "outputs": []
    },
    {
      "cell_type": "markdown",
      "source": [
        "El array es el principal objeto de la librería. Representa datos de manera estructurada y se puede acceder a ellos a traves del indexado, a un dato específico o un grupo de muchos datos específicos."
      ],
      "metadata": {
        "id": "GSNt77TbZ6X8"
      }
    },
    {
      "cell_type": "code",
      "source": [
        "# Llevar una lista de python a un array de numpy\n",
        "arr = np.array(lista)"
      ],
      "metadata": {
        "id": "0ZMStSRxZ8LM"
      },
      "execution_count": null,
      "outputs": []
    },
    {
      "cell_type": "code",
      "source": [
        "type(arr)"
      ],
      "metadata": {
        "colab": {
          "base_uri": "https://localhost:8080/"
        },
        "id": "LAkqCln3aAHE",
        "outputId": "762a9a3f-25ac-42b0-eefd-ee448089ef74"
      },
      "execution_count": null,
      "outputs": [
        {
          "output_type": "execute_result",
          "data": {
            "text/plain": [
              "numpy.ndarray"
            ]
          },
          "metadata": {},
          "execution_count": 17
        }
      ]
    },
    {
      "cell_type": "code",
      "source": [
        "arr"
      ],
      "metadata": {
        "colab": {
          "base_uri": "https://localhost:8080/"
        },
        "id": "V_DDEi2WaBst",
        "outputId": "08b50e09-b5e8-426c-e936-5f78b5097e1b"
      },
      "execution_count": null,
      "outputs": [
        {
          "output_type": "execute_result",
          "data": {
            "text/plain": [
              "array([1, 2, 3, 4, 5, 6, 7, 8, 9])"
            ]
          },
          "metadata": {},
          "execution_count": 18
        }
      ]
    },
    {
      "cell_type": "markdown",
      "source": [
        "Generar un matriz en Numpy"
      ],
      "metadata": {
        "id": "EEluaha5aD4V"
      }
    },
    {
      "cell_type": "code",
      "source": [
        "matriz = [[1,2,3],[4,5,6],[7,8,9]]\n",
        "matriz = np.array(matriz)\n",
        "matriz"
      ],
      "metadata": {
        "colab": {
          "base_uri": "https://localhost:8080/"
        },
        "id": "kp9dkMyRaGf-",
        "outputId": "2bd911cb-7a19-4798-a7ac-6d7824f35d84"
      },
      "execution_count": null,
      "outputs": [
        {
          "output_type": "execute_result",
          "data": {
            "text/plain": [
              "array([[1, 2, 3],\n",
              "       [4, 5, 6],\n",
              "       [7, 8, 9]])"
            ]
          },
          "metadata": {},
          "execution_count": 19
        }
      ]
    },
    {
      "cell_type": "markdown",
      "source": [
        "## Indexado Arrays y Matrices"
      ],
      "metadata": {
        "id": "dqygkg6SaMV2"
      }
    },
    {
      "cell_type": "markdown",
      "source": [
        "El indexado nos permite acceder a los elementos de los array y matrices Los elementos se emepiezan a contar desde 0."
      ],
      "metadata": {
        "id": "4oAC6Q9maPJQ"
      }
    },
    {
      "cell_type": "code",
      "source": [
        "arr"
      ],
      "metadata": {
        "colab": {
          "base_uri": "https://localhost:8080/"
        },
        "id": "s-xkRM2maNqd",
        "outputId": "71dd6f3b-505a-4e08-8cf6-961c5375b570"
      },
      "execution_count": null,
      "outputs": [
        {
          "output_type": "execute_result",
          "data": {
            "text/plain": [
              "array([1, 2, 3, 4, 5, 6, 7, 8, 9])"
            ]
          },
          "metadata": {},
          "execution_count": 20
        }
      ]
    },
    {
      "cell_type": "code",
      "source": [
        "arr[0]"
      ],
      "metadata": {
        "colab": {
          "base_uri": "https://localhost:8080/"
        },
        "id": "mL-w9x1xaNoH",
        "outputId": "74cf5a49-fabc-4159-8024-6b7449deaa37"
      },
      "execution_count": null,
      "outputs": [
        {
          "output_type": "execute_result",
          "data": {
            "text/plain": [
              "1"
            ]
          },
          "metadata": {},
          "execution_count": 21
        }
      ]
    },
    {
      "cell_type": "markdown",
      "source": [
        "Es posible operar directamente con los elementos."
      ],
      "metadata": {
        "id": "3CzG3ztuaV84"
      }
    },
    {
      "cell_type": "code",
      "source": [
        "arr[0] + arr[5]"
      ],
      "metadata": {
        "colab": {
          "base_uri": "https://localhost:8080/"
        },
        "id": "8yrs00oOaNkw",
        "outputId": "72bd262f-cd35-41a6-a2ea-86f4151f4c11"
      },
      "execution_count": null,
      "outputs": [
        {
          "output_type": "execute_result",
          "data": {
            "text/plain": [
              "7"
            ]
          },
          "metadata": {},
          "execution_count": 22
        }
      ]
    },
    {
      "cell_type": "code",
      "source": [
        "matriz"
      ],
      "metadata": {
        "colab": {
          "base_uri": "https://localhost:8080/"
        },
        "id": "9siL6U4Paa5f",
        "outputId": "70f8c56d-3425-4148-d194-78dadff33575"
      },
      "execution_count": null,
      "outputs": [
        {
          "output_type": "execute_result",
          "data": {
            "text/plain": [
              "array([[1, 2, 3],\n",
              "       [4, 5, 6],\n",
              "       [7, 8, 9]])"
            ]
          },
          "metadata": {},
          "execution_count": 23
        }
      ]
    },
    {
      "cell_type": "markdown",
      "source": [
        "En el caso de las matrices al indezar una posición se regresa el array de dicha posición."
      ],
      "metadata": {
        "id": "cUNxp8c7aeUP"
      }
    },
    {
      "cell_type": "code",
      "source": [
        "matriz[0]"
      ],
      "metadata": {
        "colab": {
          "base_uri": "https://localhost:8080/"
        },
        "id": "vU2CCvchagj3",
        "outputId": "abe3a7b7-e90c-4990-c9f4-8cbc83e6e57b"
      },
      "execution_count": null,
      "outputs": [
        {
          "output_type": "execute_result",
          "data": {
            "text/plain": [
              "array([1, 2, 3])"
            ]
          },
          "metadata": {},
          "execution_count": 24
        }
      ]
    },
    {
      "cell_type": "markdown",
      "source": [
        "Para seleccionar un solo elemento de la matriz se especifica la posición del elemento separada por comas."
      ],
      "metadata": {
        "id": "NFl1pHZaajkm"
      }
    },
    {
      "cell_type": "code",
      "source": [
        "matriz[0,2]"
      ],
      "metadata": {
        "colab": {
          "base_uri": "https://localhost:8080/"
        },
        "id": "rEQRFtfIakSB",
        "outputId": "d3c0d8b2-5d49-4594-af49-c72fd9b83433"
      },
      "execution_count": null,
      "outputs": [
        {
          "output_type": "execute_result",
          "data": {
            "text/plain": [
              "3"
            ]
          },
          "metadata": {},
          "execution_count": 25
        }
      ]
    },
    {
      "cell_type": "markdown",
      "source": [
        "## Slicing"
      ],
      "metadata": {
        "id": "t90rug7saovy"
      }
    },
    {
      "cell_type": "markdown",
      "source": [
        "El slicing nos permite extraer varios datos, tiene un comienzo y un final."
      ],
      "metadata": {
        "id": "bpkyp7WgavGT"
      }
    },
    {
      "cell_type": "code",
      "source": [
        "arr"
      ],
      "metadata": {
        "colab": {
          "base_uri": "https://localhost:8080/"
        },
        "id": "UxngIzxTatd6",
        "outputId": "5326481c-ab24-4583-bb3f-a95c356dbdf8"
      },
      "execution_count": null,
      "outputs": [
        {
          "output_type": "execute_result",
          "data": {
            "text/plain": [
              "array([1, 2, 3, 4, 5, 6, 7, 8, 9])"
            ]
          },
          "metadata": {},
          "execution_count": 26
        }
      ]
    },
    {
      "cell_type": "markdown",
      "source": [
        "En este ejemplo se está extrayendo datos desde la posición 0 hasta la 5. [1:6]."
      ],
      "metadata": {
        "id": "oy1XravFayQv"
      }
    },
    {
      "cell_type": "code",
      "source": [
        "arr[0:6]"
      ],
      "metadata": {
        "colab": {
          "base_uri": "https://localhost:8080/"
        },
        "id": "9I67_31pata3",
        "outputId": "6734925c-fd03-4efd-9b22-cbe5b62978eb"
      },
      "execution_count": null,
      "outputs": [
        {
          "output_type": "execute_result",
          "data": {
            "text/plain": [
              "array([1, 2, 3, 4, 5, 6])"
            ]
          },
          "metadata": {},
          "execution_count": 27
        }
      ]
    },
    {
      "cell_type": "markdown",
      "source": [
        "Si no se ingresa el valor de Start se toma el incio como la posición 0."
      ],
      "metadata": {
        "id": "qL9NpHdSa1of"
      }
    },
    {
      "cell_type": "code",
      "source": [
        "arr[:6] #Puntos al comienzo significa que comience en el inicio hasta el punto de referencia final (en este caso el Nro 6)"
      ],
      "metadata": {
        "colab": {
          "base_uri": "https://localhost:8080/"
        },
        "id": "YT9qPo_vatYI",
        "outputId": "b6a3b87e-6837-47ef-dd83-7289bfc67e79"
      },
      "execution_count": null,
      "outputs": [
        {
          "output_type": "execute_result",
          "data": {
            "text/plain": [
              "array([1, 2, 3, 4, 5, 6])"
            ]
          },
          "metadata": {},
          "execution_count": 28
        }
      ]
    },
    {
      "cell_type": "markdown",
      "source": [
        "En cambio si no se le da una posción de End se regresan todos los elementos hasta el final del array."
      ],
      "metadata": {
        "id": "JEIOc7hda5nY"
      }
    },
    {
      "cell_type": "code",
      "source": [
        "arr[2:] #Puntos al final significa que vaya hasta el final teniendo en cuenta la referencia de inicio (en este caso el Nro 2)"
      ],
      "metadata": {
        "colab": {
          "base_uri": "https://localhost:8080/"
        },
        "id": "Q7_V0TEGa7aP",
        "outputId": "3fb14831-c7db-47d3-b642-05da64ce47d5"
      },
      "execution_count": null,
      "outputs": [
        {
          "output_type": "execute_result",
          "data": {
            "text/plain": [
              "array([3, 4, 5, 6, 7, 8, 9])"
            ]
          },
          "metadata": {},
          "execution_count": 29
        }
      ]
    },
    {
      "cell_type": "markdown",
      "source": [
        "También se puede trabajar por pasos. En este ejemplo de 3 en 3. Regresa la posición 0, 0 + 3, 3 + 3 y como no hay posición 6 + 3, no se regrese nada."
      ],
      "metadata": {
        "id": "YIbnKX14bIrv"
      }
    },
    {
      "cell_type": "code",
      "source": [
        "arr[::3] #Toma los elementos de 3 en 3. \n"
      ],
      "metadata": {
        "colab": {
          "base_uri": "https://localhost:8080/"
        },
        "id": "aoret6FRbDMI",
        "outputId": "a5f6eab3-ba5e-424b-f518-bfc1915397bc"
      },
      "execution_count": null,
      "outputs": [
        {
          "output_type": "execute_result",
          "data": {
            "text/plain": [
              "array([1, 4, 7])"
            ]
          },
          "metadata": {},
          "execution_count": 30
        }
      ]
    },
    {
      "cell_type": "markdown",
      "source": [
        "Cuando se le asigna un valor negativo se regresan los valores comenzando desde la última posición del array."
      ],
      "metadata": {
        "id": "UWtDx9MqbLwG"
      }
    },
    {
      "cell_type": "code",
      "source": [
        "arr[-1] # Toma el primer valor pero del final"
      ],
      "metadata": {
        "colab": {
          "base_uri": "https://localhost:8080/"
        },
        "id": "KheozEbWbRXP",
        "outputId": "2a9c53f7-b5a6-48fb-95b6-0f174b23d4ab"
      },
      "execution_count": null,
      "outputs": [
        {
          "output_type": "execute_result",
          "data": {
            "text/plain": [
              "9"
            ]
          },
          "metadata": {},
          "execution_count": 31
        }
      ]
    },
    {
      "cell_type": "code",
      "source": [
        "arr[-3:] # Toma los ultimos 3 valores"
      ],
      "metadata": {
        "colab": {
          "base_uri": "https://localhost:8080/"
        },
        "id": "htWXlm03bTdf",
        "outputId": "80a8d94c-1dac-48cd-8347-4dbd9840e086"
      },
      "execution_count": null,
      "outputs": [
        {
          "output_type": "execute_result",
          "data": {
            "text/plain": [
              "array([7, 8, 9])"
            ]
          },
          "metadata": {},
          "execution_count": 32
        }
      ]
    },
    {
      "cell_type": "code",
      "source": [
        "matriz"
      ],
      "metadata": {
        "colab": {
          "base_uri": "https://localhost:8080/"
        },
        "id": "ZsDaS3tjbVKH",
        "outputId": "0ac52d98-0677-47c2-c552-e19ddf0f7a8f"
      },
      "execution_count": null,
      "outputs": [
        {
          "output_type": "execute_result",
          "data": {
            "text/plain": [
              "array([[1, 2, 3],\n",
              "       [4, 5, 6],\n",
              "       [7, 8, 9]])"
            ]
          },
          "metadata": {},
          "execution_count": 33
        }
      ]
    },
    {
      "cell_type": "markdown",
      "source": [
        "Para el caso de las matrices sucede algo similar. Para acceder a los valores a nivel de filas."
      ],
      "metadata": {
        "id": "GYd8lW_HbY9I"
      }
    },
    {
      "cell_type": "code",
      "source": [
        "matriz[1:] #Tomar la matriz desde la fila 1."
      ],
      "metadata": {
        "colab": {
          "base_uri": "https://localhost:8080/"
        },
        "id": "vU2y24MmbYKw",
        "outputId": "26387d33-7c8d-4e60-89f1-4b06978cd56e"
      },
      "execution_count": null,
      "outputs": [
        {
          "output_type": "execute_result",
          "data": {
            "text/plain": [
              "array([[4, 5, 6],\n",
              "       [7, 8, 9]])"
            ]
          },
          "metadata": {},
          "execution_count": 34
        }
      ]
    },
    {
      "cell_type": "markdown",
      "source": [
        "Para acceder a los valores a nivel de filas y columnas.\n"
      ],
      "metadata": {
        "id": "_dV79xhDbd58"
      }
    },
    {
      "cell_type": "code",
      "source": [
        "matriz[1:,0:2] #Tomar todas las filas a partir de la 1 y solo las columna 0 y 1. "
      ],
      "metadata": {
        "colab": {
          "base_uri": "https://localhost:8080/"
        },
        "id": "y_f9E0iqbetD",
        "outputId": "37b5f114-fe58-423c-9fee-b050610664f7"
      },
      "execution_count": null,
      "outputs": [
        {
          "output_type": "execute_result",
          "data": {
            "text/plain": [
              "array([[4, 5],\n",
              "       [7, 8]])"
            ]
          },
          "metadata": {},
          "execution_count": 35
        }
      ]
    },
    {
      "cell_type": "code",
      "source": [
        "matriz[:,2] # Tomar ultima columna"
      ],
      "metadata": {
        "colab": {
          "base_uri": "https://localhost:8080/"
        },
        "id": "SG_6jPmWbkGg",
        "outputId": "7c093821-1df0-4fae-c1f1-5a36d1737801"
      },
      "execution_count": null,
      "outputs": [
        {
          "output_type": "execute_result",
          "data": {
            "text/plain": [
              "array([3, 6, 9])"
            ]
          },
          "metadata": {},
          "execution_count": 36
        }
      ]
    },
    {
      "cell_type": "markdown",
      "source": [
        "## Tipos de datos"
      ],
      "metadata": {
        "id": "_gI6mmqSZRNW"
      }
    },
    {
      "cell_type": "markdown",
      "source": [
        "Los arrays de NumPy solo pueden contener un tipo de dato, ya que esto es lo que le confiere las ventajas de la optimización de memoria.\n",
        "\n",
        "Podemos conocer el tipo de datos del array consultando la propiedad .dtype."
      ],
      "metadata": {
        "id": "jsbvCZalWAVj"
      }
    },
    {
      "cell_type": "code",
      "execution_count": null,
      "metadata": {
        "id": "yUvdUIqxU4dw"
      },
      "outputs": [],
      "source": [
        "import numpy as np"
      ]
    },
    {
      "cell_type": "code",
      "source": [
        "arr = np.array([1,2,3,4])\n",
        "arr.dtype"
      ],
      "metadata": {
        "colab": {
          "base_uri": "https://localhost:8080/"
        },
        "id": "m2_OqxF-VDJh",
        "outputId": "26cc1082-77d1-46ad-f53d-2b79506ee409"
      },
      "execution_count": null,
      "outputs": [
        {
          "output_type": "execute_result",
          "data": {
            "text/plain": [
              "dtype('int64')"
            ]
          },
          "metadata": {},
          "execution_count": 2
        }
      ]
    },
    {
      "cell_type": "code",
      "source": [
        "arr = np.array([1,2,3,4], dtype = 'float64') # Para definir el tipo de dato desde el comienzo. \n",
        "arr.dtype"
      ],
      "metadata": {
        "colab": {
          "base_uri": "https://localhost:8080/"
        },
        "id": "N2R0xzgAVp8G",
        "outputId": "8ee36cdc-49a0-405a-b831-f9a2f38bd99c"
      },
      "execution_count": null,
      "outputs": [
        {
          "output_type": "execute_result",
          "data": {
            "text/plain": [
              "dtype('float64')"
            ]
          },
          "metadata": {},
          "execution_count": 3
        }
      ]
    },
    {
      "cell_type": "code",
      "source": [
        "arr"
      ],
      "metadata": {
        "colab": {
          "base_uri": "https://localhost:8080/"
        },
        "id": "xyaAYyF3V4-j",
        "outputId": "a831fab3-b9bb-4158-f10b-d47ff8c1a24a"
      },
      "execution_count": null,
      "outputs": [
        {
          "output_type": "execute_result",
          "data": {
            "text/plain": [
              "array([1., 2., 3., 4.])"
            ]
          },
          "metadata": {},
          "execution_count": 4
        }
      ]
    },
    {
      "cell_type": "code",
      "source": [
        "arr2 = arr.astype(np.int64) # Para cambiar el array a tipo integer"
      ],
      "metadata": {
        "id": "aMbochoDWI33"
      },
      "execution_count": null,
      "outputs": []
    },
    {
      "cell_type": "code",
      "source": [
        "arr3 = arr.astype(np.bool_) # Para cambiar el array a tipo Bool"
      ],
      "metadata": {
        "id": "qrQBrMD5WXxW"
      },
      "execution_count": null,
      "outputs": []
    },
    {
      "cell_type": "code",
      "source": [
        "arr4 = arr.astype(np.string_) #Para cambiar el array a tipo String"
      ],
      "metadata": {
        "id": "lEAzk8LHWpa_"
      },
      "execution_count": null,
      "outputs": []
    },
    {
      "cell_type": "code",
      "source": [
        "arr4"
      ],
      "metadata": {
        "colab": {
          "base_uri": "https://localhost:8080/"
        },
        "id": "mk0WzvXsW0EG",
        "outputId": "d0cd9d52-99e3-4673-a452-34617ae72ea5"
      },
      "execution_count": null,
      "outputs": [
        {
          "output_type": "execute_result",
          "data": {
            "text/plain": [
              "array([b'1.0', b'2.0', b'3.0', b'4.0'], dtype='|S32')"
            ]
          },
          "metadata": {},
          "execution_count": 9
        }
      ]
    },
    {
      "cell_type": "code",
      "source": [
        "arr5 = np.array([\"1\",\"2\",\"3\",\"4\"]) #Para cambiar a tipo integer\n",
        "arr5 = arr5.astype(np.int8)\n",
        "arr5.dtype"
      ],
      "metadata": {
        "colab": {
          "base_uri": "https://localhost:8080/"
        },
        "id": "O8Htc1FJWy2i",
        "outputId": "77c6bf53-2263-4ba3-e203-14be0e6f518b"
      },
      "execution_count": null,
      "outputs": [
        {
          "output_type": "execute_result",
          "data": {
            "text/plain": [
              "dtype('int8')"
            ]
          },
          "metadata": {},
          "execution_count": 11
        }
      ]
    },
    {
      "cell_type": "code",
      "source": [
        "arr5"
      ],
      "metadata": {
        "colab": {
          "base_uri": "https://localhost:8080/"
        },
        "id": "zogiA4omXRFJ",
        "outputId": "d82e2b63-d6fb-4214-b3f0-382eb817b2c8"
      },
      "execution_count": null,
      "outputs": [
        {
          "output_type": "execute_result",
          "data": {
            "text/plain": [
              "array([1, 2, 3, 4], dtype=int8)"
            ]
          },
          "metadata": {},
          "execution_count": 12
        }
      ]
    },
    {
      "cell_type": "markdown",
      "source": [
        "## Dimensiones"
      ],
      "metadata": {
        "id": "mupc4L38cWW4"
      }
    },
    {
      "cell_type": "markdown",
      "source": [
        "![image.png](data:image/png;base64,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)"
      ],
      "metadata": {
        "id": "ZuiV6jdjeRFP"
      }
    },
    {
      "cell_type": "markdown",
      "source": [
        "Ejemplos"
      ],
      "metadata": {
        "id": "OVvuP8mIeTtA"
      }
    },
    {
      "cell_type": "markdown",
      "source": [
        "![image.png](data:image/png;base64,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)"
      ],
      "metadata": {
        "id": "AWlO0m_FfjRR"
      }
    },
    {
      "cell_type": "code",
      "source": [
        "import numpy as np"
      ],
      "metadata": {
        "id": "DmL8OkZTXUY-"
      },
      "execution_count": null,
      "outputs": []
    },
    {
      "cell_type": "code",
      "source": [
        "scalar = np.array(42)\n",
        "print(scalar)\n",
        "scalar.ndim"
      ],
      "metadata": {
        "colab": {
          "base_uri": "https://localhost:8080/"
        },
        "id": "FkQTU42Mf6Nm",
        "outputId": "d3df2cec-a1cb-4a0e-d2a7-24f8fd851010"
      },
      "execution_count": null,
      "outputs": [
        {
          "output_type": "stream",
          "name": "stdout",
          "text": [
            "42\n"
          ]
        },
        {
          "output_type": "execute_result",
          "data": {
            "text/plain": [
              "0"
            ]
          },
          "metadata": {},
          "execution_count": 41
        }
      ]
    },
    {
      "cell_type": "code",
      "source": [
        "vector = np.array([1, 2, 3])\n",
        "print(vector)\n",
        "vector.ndim"
      ],
      "metadata": {
        "colab": {
          "base_uri": "https://localhost:8080/"
        },
        "id": "-BAdM1VsgDTd",
        "outputId": "aff1cb1f-4b3c-40e6-835c-365db4cdafc6"
      },
      "execution_count": null,
      "outputs": [
        {
          "output_type": "stream",
          "name": "stdout",
          "text": [
            "[1 2 3]\n"
          ]
        },
        {
          "output_type": "execute_result",
          "data": {
            "text/plain": [
              "1"
            ]
          },
          "metadata": {},
          "execution_count": 43
        }
      ]
    },
    {
      "cell_type": "code",
      "source": [
        "matriz = np.array([[1, 2, 3], [4,5,6], [4,5,6], [4,5,6], [4,5,6]])\n",
        "print(matriz)\n",
        "matriz.ndim"
      ],
      "metadata": {
        "colab": {
          "base_uri": "https://localhost:8080/"
        },
        "id": "vGuGc-qHl56t",
        "outputId": "8d557617-715f-42d8-de0f-6c686b19ba0c"
      },
      "execution_count": null,
      "outputs": [
        {
          "output_type": "stream",
          "name": "stdout",
          "text": [
            "[[1 2 3]\n",
            " [4 5 6]\n",
            " [4 5 6]\n",
            " [4 5 6]\n",
            " [4 5 6]]\n"
          ]
        },
        {
          "output_type": "execute_result",
          "data": {
            "text/plain": [
              "2"
            ]
          },
          "metadata": {},
          "execution_count": 45
        }
      ]
    },
    {
      "cell_type": "code",
      "source": [
        "tensor = np.array([[[1, 2, 3], [4,5,6], [4,5,6], [4,5,6], [4,5,6]], [[1, 2, 3], [4,5,6], [4,5,6], [4,5,6], [4,5,6]]])\n",
        "print(tensor)\n",
        "tensor.ndim"
      ],
      "metadata": {
        "colab": {
          "base_uri": "https://localhost:8080/"
        },
        "id": "JAA1SOgjmQrF",
        "outputId": "eb607c42-1328-42b8-e1ab-6957898c61fa"
      },
      "execution_count": null,
      "outputs": [
        {
          "output_type": "stream",
          "name": "stdout",
          "text": [
            "[[[1 2 3]\n",
            "  [4 5 6]\n",
            "  [4 5 6]\n",
            "  [4 5 6]\n",
            "  [4 5 6]]\n",
            "\n",
            " [[1 2 3]\n",
            "  [4 5 6]\n",
            "  [4 5 6]\n",
            "  [4 5 6]\n",
            "  [4 5 6]]]\n"
          ]
        },
        {
          "output_type": "execute_result",
          "data": {
            "text/plain": [
              "3"
            ]
          },
          "metadata": {},
          "execution_count": 47
        }
      ]
    },
    {
      "cell_type": "markdown",
      "source": [
        "Agregar dimensiones"
      ],
      "metadata": {
        "id": "3MNcMMCFm5J6"
      }
    },
    {
      "cell_type": "code",
      "source": [
        "vector2 = np.array([1, 2, 3], ndmin=10) # Para definir la cantidad de dimensiones que quiero establecer\n",
        "print(vector2)\n",
        "vector2.ndim"
      ],
      "metadata": {
        "colab": {
          "base_uri": "https://localhost:8080/"
        },
        "id": "eiWTtOE3mpOQ",
        "outputId": "fc4ecbc9-ffb8-4e7b-e825-2ad9169e4852"
      },
      "execution_count": null,
      "outputs": [
        {
          "output_type": "stream",
          "name": "stdout",
          "text": [
            "[[[[[[[[[[1 2 3]]]]]]]]]]\n"
          ]
        },
        {
          "output_type": "execute_result",
          "data": {
            "text/plain": [
              "10"
            ]
          },
          "metadata": {},
          "execution_count": 49
        }
      ]
    },
    {
      "cell_type": "code",
      "source": [
        "expand = np.expand_dims(np.array([1, 2, 3]),axis = 1) # Para expandir solo de a 1 dimension - axis define el eje de expansion\n",
        "print(expand)\n",
        "expand.ndim"
      ],
      "metadata": {
        "colab": {
          "base_uri": "https://localhost:8080/"
        },
        "id": "216kQbPJnDPL",
        "outputId": "41e39765-b99e-473e-818c-6410a46afa3b"
      },
      "execution_count": null,
      "outputs": [
        {
          "output_type": "stream",
          "name": "stdout",
          "text": [
            "[[1]\n",
            " [2]\n",
            " [3]]\n"
          ]
        },
        {
          "output_type": "execute_result",
          "data": {
            "text/plain": [
              "2"
            ]
          },
          "metadata": {},
          "execution_count": 54
        }
      ]
    },
    {
      "cell_type": "markdown",
      "source": [
        "Eliminar dimensiones"
      ],
      "metadata": {
        "id": "6UfY6zG_oVLa"
      }
    },
    {
      "cell_type": "code",
      "source": [
        "print(vector2, vector2.ndim)\n",
        "vector_2 = np.squeeze(vector2) # Comprime al numero de dimensiones que se este usando - Si sobra dimensiones las quita\n",
        "print(vector_2, vector_2.ndim)"
      ],
      "metadata": {
        "colab": {
          "base_uri": "https://localhost:8080/"
        },
        "id": "B_hn41_fn98j",
        "outputId": "957adc3c-3f6a-4808-8893-655c0ddcc783"
      },
      "execution_count": null,
      "outputs": [
        {
          "output_type": "stream",
          "name": "stdout",
          "text": [
            "[[[[[[[[[[1 2 3]]]]]]]]]] 10\n",
            "[1 2 3] 1\n"
          ]
        }
      ]
    },
    {
      "cell_type": "markdown",
      "source": [
        "Reto Crear un array de 5 dimensiones"
      ],
      "metadata": {
        "id": "g3XbkxifpWA9"
      }
    },
    {
      "cell_type": "code",
      "source": [
        "arr_reto = np.array([[[[[1,2,3],[4,5,6],[7,8,9]], [[1,2,3],[4,5,6],[7,8,9]]], [[[1,2,3],[4,5,6],[7,8,9]], [[1,2,3],[4,5,6],[7,8,9]]]], [[[[1,2,3],[4,5,6],[7,8,9]], [[1,2,3],[4,5,6],[7,8,9]]], [[[1,2,3],[4,5,6],[7,8,9]], [[1,2,3],[4,5,6],[7,8,9]]]]])"
      ],
      "metadata": {
        "id": "QVy1ZxFLojmK"
      },
      "execution_count": null,
      "outputs": []
    },
    {
      "cell_type": "code",
      "source": [
        "print(arr_reto)\n",
        "arr_reto.ndim"
      ],
      "metadata": {
        "colab": {
          "base_uri": "https://localhost:8080/"
        },
        "id": "EKWjh59YpeHf",
        "outputId": "45261791-7f68-43bc-cd99-f50e8121823c"
      },
      "execution_count": null,
      "outputs": [
        {
          "output_type": "stream",
          "name": "stdout",
          "text": [
            "[[[[[1 2 3]\n",
            "    [4 5 6]\n",
            "    [7 8 9]]\n",
            "\n",
            "   [[1 2 3]\n",
            "    [4 5 6]\n",
            "    [7 8 9]]]\n",
            "\n",
            "\n",
            "  [[[1 2 3]\n",
            "    [4 5 6]\n",
            "    [7 8 9]]\n",
            "\n",
            "   [[1 2 3]\n",
            "    [4 5 6]\n",
            "    [7 8 9]]]]\n",
            "\n",
            "\n",
            "\n",
            " [[[[1 2 3]\n",
            "    [4 5 6]\n",
            "    [7 8 9]]\n",
            "\n",
            "   [[1 2 3]\n",
            "    [4 5 6]\n",
            "    [7 8 9]]]\n",
            "\n",
            "\n",
            "  [[[1 2 3]\n",
            "    [4 5 6]\n",
            "    [7 8 9]]\n",
            "\n",
            "   [[1 2 3]\n",
            "    [4 5 6]\n",
            "    [7 8 9]]]]]\n"
          ]
        },
        {
          "output_type": "execute_result",
          "data": {
            "text/plain": [
              "5"
            ]
          },
          "metadata": {},
          "execution_count": 76
        }
      ]
    },
    {
      "cell_type": "code",
      "source": [
        "#Expandir una dimension el tensor del reto\n",
        "expand_reto = np.expand_dims(arr_reto,axis = 0) # Para expandir solo de a 1 dimension - axis define el eje de expansion\n",
        "print(expand_reto)\n",
        "expand_reto.ndim\n",
        "\n",
        "#expand = np.expand_dims(np.array([1, 2, 3]),axis = 1) "
      ],
      "metadata": {
        "colab": {
          "base_uri": "https://localhost:8080/"
        },
        "id": "JsyMF_DEpfcr",
        "outputId": "5270d563-f9a2-44e8-b23b-67f3725d4ca7"
      },
      "execution_count": null,
      "outputs": [
        {
          "output_type": "stream",
          "name": "stdout",
          "text": [
            "[[[[[[1 2 3]\n",
            "     [4 5 6]\n",
            "     [7 8 9]]\n",
            "\n",
            "    [[1 2 3]\n",
            "     [4 5 6]\n",
            "     [7 8 9]]]\n",
            "\n",
            "\n",
            "   [[[1 2 3]\n",
            "     [4 5 6]\n",
            "     [7 8 9]]\n",
            "\n",
            "    [[1 2 3]\n",
            "     [4 5 6]\n",
            "     [7 8 9]]]]\n",
            "\n",
            "\n",
            "\n",
            "  [[[[1 2 3]\n",
            "     [4 5 6]\n",
            "     [7 8 9]]\n",
            "\n",
            "    [[1 2 3]\n",
            "     [4 5 6]\n",
            "     [7 8 9]]]\n",
            "\n",
            "\n",
            "   [[[1 2 3]\n",
            "     [4 5 6]\n",
            "     [7 8 9]]\n",
            "\n",
            "    [[1 2 3]\n",
            "     [4 5 6]\n",
            "     [7 8 9]]]]]]\n"
          ]
        },
        {
          "output_type": "execute_result",
          "data": {
            "text/plain": [
              "6"
            ]
          },
          "metadata": {},
          "execution_count": 79
        }
      ]
    },
    {
      "cell_type": "code",
      "source": [
        "reducido_reto = np.squeeze(expand_reto)\n",
        "reducido_reto.ndim"
      ],
      "metadata": {
        "colab": {
          "base_uri": "https://localhost:8080/"
        },
        "id": "zfNdZJxdqmti",
        "outputId": "99adaad1-8b25-4560-ef0b-365dc170e614"
      },
      "execution_count": null,
      "outputs": [
        {
          "output_type": "execute_result",
          "data": {
            "text/plain": [
              "5"
            ]
          },
          "metadata": {},
          "execution_count": 80
        }
      ]
    },
    {
      "cell_type": "markdown",
      "source": [
        "##Creando Array de forma rapida"
      ],
      "metadata": {
        "id": "5ChG46ld3yHT"
      }
    },
    {
      "cell_type": "code",
      "source": [
        "import numpy as np"
      ],
      "metadata": {
        "id": "wqxTG9ejr4JS"
      },
      "execution_count": null,
      "outputs": []
    },
    {
      "cell_type": "code",
      "source": [
        "list(range(0,10))"
      ],
      "metadata": {
        "colab": {
          "base_uri": "https://localhost:8080/"
        },
        "id": "ELcKixYC33XV",
        "outputId": "ec145460-ea9d-4fb9-fa7e-4d3fa9ab1733"
      },
      "execution_count": null,
      "outputs": [
        {
          "output_type": "execute_result",
          "data": {
            "text/plain": [
              "[0, 1, 2, 3, 4, 5, 6, 7, 8, 9]"
            ]
          },
          "metadata": {},
          "execution_count": 83
        }
      ]
    },
    {
      "cell_type": "code",
      "source": [
        "np.arange(0,10)"
      ],
      "metadata": {
        "colab": {
          "base_uri": "https://localhost:8080/"
        },
        "id": "Rs5dUuwP387A",
        "outputId": "1fea827c-ba67-4485-ff22-e881ff794d05"
      },
      "execution_count": null,
      "outputs": [
        {
          "output_type": "execute_result",
          "data": {
            "text/plain": [
              "array([0, 1, 2, 3, 4, 5, 6, 7, 8, 9])"
            ]
          },
          "metadata": {},
          "execution_count": 84
        }
      ]
    },
    {
      "cell_type": "code",
      "source": [
        "np.arange(0,10,2)"
      ],
      "metadata": {
        "colab": {
          "base_uri": "https://localhost:8080/"
        },
        "id": "X6McRQrH4EqM",
        "outputId": "be3bebc4-7b66-4ef3-9375-5ee140642fec"
      },
      "execution_count": null,
      "outputs": [
        {
          "output_type": "execute_result",
          "data": {
            "text/plain": [
              "array([0, 2, 4, 6, 8])"
            ]
          },
          "metadata": {},
          "execution_count": 85
        }
      ]
    },
    {
      "cell_type": "code",
      "source": [
        "np.zeros(3)"
      ],
      "metadata": {
        "colab": {
          "base_uri": "https://localhost:8080/"
        },
        "id": "_KycL-pe4QlJ",
        "outputId": "59638b1d-70a9-4676-adee-2b923608bf7c"
      },
      "execution_count": null,
      "outputs": [
        {
          "output_type": "execute_result",
          "data": {
            "text/plain": [
              "array([0., 0., 0.])"
            ]
          },
          "metadata": {},
          "execution_count": 86
        }
      ]
    },
    {
      "cell_type": "code",
      "source": [
        "np.zeros((10,10))"
      ],
      "metadata": {
        "colab": {
          "base_uri": "https://localhost:8080/"
        },
        "id": "CwtEUZp04dpf",
        "outputId": "45567ff0-4fa3-4ccc-e9bf-12d1a0e12826"
      },
      "execution_count": null,
      "outputs": [
        {
          "output_type": "execute_result",
          "data": {
            "text/plain": [
              "array([[0., 0., 0., 0., 0., 0., 0., 0., 0., 0.],\n",
              "       [0., 0., 0., 0., 0., 0., 0., 0., 0., 0.],\n",
              "       [0., 0., 0., 0., 0., 0., 0., 0., 0., 0.],\n",
              "       [0., 0., 0., 0., 0., 0., 0., 0., 0., 0.],\n",
              "       [0., 0., 0., 0., 0., 0., 0., 0., 0., 0.],\n",
              "       [0., 0., 0., 0., 0., 0., 0., 0., 0., 0.],\n",
              "       [0., 0., 0., 0., 0., 0., 0., 0., 0., 0.],\n",
              "       [0., 0., 0., 0., 0., 0., 0., 0., 0., 0.],\n",
              "       [0., 0., 0., 0., 0., 0., 0., 0., 0., 0.],\n",
              "       [0., 0., 0., 0., 0., 0., 0., 0., 0., 0.]])"
            ]
          },
          "metadata": {},
          "execution_count": 88
        }
      ]
    },
    {
      "cell_type": "code",
      "source": [
        "np.ones((10,5))"
      ],
      "metadata": {
        "colab": {
          "base_uri": "https://localhost:8080/"
        },
        "id": "b_C3cV1l4lvp",
        "outputId": "b09d1c48-24df-4c1b-f1a2-f4c36c7ed5f1"
      },
      "execution_count": null,
      "outputs": [
        {
          "output_type": "execute_result",
          "data": {
            "text/plain": [
              "array([[1., 1., 1., 1., 1.],\n",
              "       [1., 1., 1., 1., 1.],\n",
              "       [1., 1., 1., 1., 1.],\n",
              "       [1., 1., 1., 1., 1.],\n",
              "       [1., 1., 1., 1., 1.],\n",
              "       [1., 1., 1., 1., 1.],\n",
              "       [1., 1., 1., 1., 1.],\n",
              "       [1., 1., 1., 1., 1.],\n",
              "       [1., 1., 1., 1., 1.],\n",
              "       [1., 1., 1., 1., 1.]])"
            ]
          },
          "metadata": {},
          "execution_count": 89
        }
      ]
    },
    {
      "cell_type": "code",
      "source": [
        "np.linspace(0,10,100)"
      ],
      "metadata": {
        "colab": {
          "base_uri": "https://localhost:8080/"
        },
        "id": "qAB9HKJz4yrU",
        "outputId": "40e36173-ac9d-4d9b-adfd-6d06c0ddc67a"
      },
      "execution_count": null,
      "outputs": [
        {
          "output_type": "execute_result",
          "data": {
            "text/plain": [
              "array([ 0.        ,  0.1010101 ,  0.2020202 ,  0.3030303 ,  0.4040404 ,\n",
              "        0.50505051,  0.60606061,  0.70707071,  0.80808081,  0.90909091,\n",
              "        1.01010101,  1.11111111,  1.21212121,  1.31313131,  1.41414141,\n",
              "        1.51515152,  1.61616162,  1.71717172,  1.81818182,  1.91919192,\n",
              "        2.02020202,  2.12121212,  2.22222222,  2.32323232,  2.42424242,\n",
              "        2.52525253,  2.62626263,  2.72727273,  2.82828283,  2.92929293,\n",
              "        3.03030303,  3.13131313,  3.23232323,  3.33333333,  3.43434343,\n",
              "        3.53535354,  3.63636364,  3.73737374,  3.83838384,  3.93939394,\n",
              "        4.04040404,  4.14141414,  4.24242424,  4.34343434,  4.44444444,\n",
              "        4.54545455,  4.64646465,  4.74747475,  4.84848485,  4.94949495,\n",
              "        5.05050505,  5.15151515,  5.25252525,  5.35353535,  5.45454545,\n",
              "        5.55555556,  5.65656566,  5.75757576,  5.85858586,  5.95959596,\n",
              "        6.06060606,  6.16161616,  6.26262626,  6.36363636,  6.46464646,\n",
              "        6.56565657,  6.66666667,  6.76767677,  6.86868687,  6.96969697,\n",
              "        7.07070707,  7.17171717,  7.27272727,  7.37373737,  7.47474747,\n",
              "        7.57575758,  7.67676768,  7.77777778,  7.87878788,  7.97979798,\n",
              "        8.08080808,  8.18181818,  8.28282828,  8.38383838,  8.48484848,\n",
              "        8.58585859,  8.68686869,  8.78787879,  8.88888889,  8.98989899,\n",
              "        9.09090909,  9.19191919,  9.29292929,  9.39393939,  9.49494949,\n",
              "        9.5959596 ,  9.6969697 ,  9.7979798 ,  9.8989899 , 10.        ])"
            ]
          },
          "metadata": {},
          "execution_count": 91
        }
      ]
    },
    {
      "cell_type": "code",
      "source": [
        "np.eye(5)"
      ],
      "metadata": {
        "colab": {
          "base_uri": "https://localhost:8080/"
        },
        "id": "pi5OuruZ47K3",
        "outputId": "290cb430-d909-4419-9f85-01af722e7d26"
      },
      "execution_count": null,
      "outputs": [
        {
          "output_type": "execute_result",
          "data": {
            "text/plain": [
              "array([[1., 0., 0., 0., 0.],\n",
              "       [0., 1., 0., 0., 0.],\n",
              "       [0., 0., 1., 0., 0.],\n",
              "       [0., 0., 0., 1., 0.],\n",
              "       [0., 0., 0., 0., 1.]])"
            ]
          },
          "metadata": {},
          "execution_count": 93
        }
      ]
    },
    {
      "cell_type": "code",
      "source": [
        "np.random.rand(4)"
      ],
      "metadata": {
        "colab": {
          "base_uri": "https://localhost:8080/"
        },
        "id": "aGxi-4lW5C1U",
        "outputId": "f9ce1d04-4697-4040-fed7-0939971fb8a0"
      },
      "execution_count": null,
      "outputs": [
        {
          "output_type": "execute_result",
          "data": {
            "text/plain": [
              "array([0.6276443 , 0.07704229, 0.66613067, 0.11623327])"
            ]
          },
          "metadata": {},
          "execution_count": 95
        }
      ]
    },
    {
      "cell_type": "code",
      "source": [
        "np.random.rand(4,4)"
      ],
      "metadata": {
        "colab": {
          "base_uri": "https://localhost:8080/"
        },
        "id": "8LCzyHf_5TXL",
        "outputId": "d37a4929-0db3-45df-f72d-cd95ea3f641f"
      },
      "execution_count": null,
      "outputs": [
        {
          "output_type": "execute_result",
          "data": {
            "text/plain": [
              "array([[0.06865055, 0.27734625, 0.41053697, 0.73734161],\n",
              "       [0.92615787, 0.28351109, 0.60206054, 0.26934848],\n",
              "       [0.61783798, 0.58795788, 0.15912942, 0.20721212],\n",
              "       [0.92253703, 0.51216497, 0.7804444 , 0.18418135]])"
            ]
          },
          "metadata": {},
          "execution_count": 97
        }
      ]
    },
    {
      "cell_type": "code",
      "source": [
        "np.random.randint(1,10)"
      ],
      "metadata": {
        "colab": {
          "base_uri": "https://localhost:8080/"
        },
        "id": "URtTIwQ55abe",
        "outputId": "37befb91-eda4-4694-9573-c2b84719b4f0"
      },
      "execution_count": null,
      "outputs": [
        {
          "output_type": "execute_result",
          "data": {
            "text/plain": [
              "4"
            ]
          },
          "metadata": {},
          "execution_count": 106
        }
      ]
    },
    {
      "cell_type": "code",
      "source": [
        "np.random.randint(1,100,(10,10))"
      ],
      "metadata": {
        "colab": {
          "base_uri": "https://localhost:8080/"
        },
        "id": "X-SxO0mO5jEX",
        "outputId": "aadfc07f-76a7-450e-d787-be53cceca8a7"
      },
      "execution_count": null,
      "outputs": [
        {
          "output_type": "execute_result",
          "data": {
            "text/plain": [
              "array([[49, 39, 24, 40, 85, 89, 95, 79, 89, 46],\n",
              "       [56, 79, 10, 74, 85, 89, 92, 74, 94, 27],\n",
              "       [45, 19, 72, 33,  4, 79,  2, 70, 66, 92],\n",
              "       [64, 72, 71,  5,  9, 49, 64, 53, 19, 40],\n",
              "       [97, 32, 37, 91,  2, 72, 98, 29, 61, 75],\n",
              "       [56, 14, 72, 20, 10, 62, 83, 19, 70, 98],\n",
              "       [31, 55, 28, 63, 55, 47, 67, 89, 73, 95],\n",
              "       [21, 17, 81, 22, 80, 79, 41, 77, 31, 38],\n",
              "       [97, 70, 59, 30, 51, 63, 18, 86, 87, 95],\n",
              "       [29, 17, 19, 71, 29, 10, 32, 68, 16, 74]])"
            ]
          },
          "metadata": {},
          "execution_count": 107
        }
      ]
    },
    {
      "cell_type": "markdown",
      "source": [
        "## Shape y Reshape"
      ],
      "metadata": {
        "id": "k8HRBCzo6Eu-"
      }
    },
    {
      "cell_type": "code",
      "source": [
        "import numpy as np"
      ],
      "metadata": {
        "id": "ypxSTnDv5v9b"
      },
      "execution_count": null,
      "outputs": []
    },
    {
      "cell_type": "code",
      "source": [
        "arr = np.random.randint(1,10,(3,2))"
      ],
      "metadata": {
        "id": "bb5m8t3h6YSO"
      },
      "execution_count": null,
      "outputs": []
    },
    {
      "cell_type": "code",
      "source": [
        "arr.shape"
      ],
      "metadata": {
        "colab": {
          "base_uri": "https://localhost:8080/"
        },
        "id": "bNITbMUx6chp",
        "outputId": "441dd928-6ed0-47f4-c362-65f5a8bc7b48"
      },
      "execution_count": null,
      "outputs": [
        {
          "output_type": "execute_result",
          "data": {
            "text/plain": [
              "(3, 2)"
            ]
          },
          "metadata": {},
          "execution_count": 111
        }
      ]
    },
    {
      "cell_type": "code",
      "source": [
        "arr"
      ],
      "metadata": {
        "colab": {
          "base_uri": "https://localhost:8080/"
        },
        "id": "kk-9JKMM6wcn",
        "outputId": "7ec57a2e-fbb6-443e-9c5e-ac37545fa35c"
      },
      "execution_count": null,
      "outputs": [
        {
          "output_type": "execute_result",
          "data": {
            "text/plain": [
              "array([[6, 1],\n",
              "       [2, 3],\n",
              "       [2, 1]])"
            ]
          },
          "metadata": {},
          "execution_count": 112
        }
      ]
    },
    {
      "cell_type": "code",
      "source": [
        "arr.reshape(1,6)"
      ],
      "metadata": {
        "colab": {
          "base_uri": "https://localhost:8080/"
        },
        "id": "UYKaCAzq6iZb",
        "outputId": "da856113-ebcd-4627-c078-30aa98d88194"
      },
      "execution_count": null,
      "outputs": [
        {
          "output_type": "execute_result",
          "data": {
            "text/plain": [
              "array([[6, 1, 2, 3, 2, 1]])"
            ]
          },
          "metadata": {},
          "execution_count": 115
        }
      ]
    },
    {
      "cell_type": "code",
      "source": [
        "arr.reshape(2,3)"
      ],
      "metadata": {
        "colab": {
          "base_uri": "https://localhost:8080/"
        },
        "id": "-SCMT4jX6zth",
        "outputId": "f9247c29-0f7f-4200-8c4f-a24ac565d390"
      },
      "execution_count": null,
      "outputs": [
        {
          "output_type": "execute_result",
          "data": {
            "text/plain": [
              "array([[6, 1, 2],\n",
              "       [3, 2, 1]])"
            ]
          },
          "metadata": {},
          "execution_count": 116
        }
      ]
    },
    {
      "cell_type": "code",
      "source": [
        "np.reshape(arr,(1,6))"
      ],
      "metadata": {
        "colab": {
          "base_uri": "https://localhost:8080/"
        },
        "id": "efjTsH2T7DEC",
        "outputId": "ca7f980c-bbc5-4a57-c296-cd3e29809d2a"
      },
      "execution_count": null,
      "outputs": [
        {
          "output_type": "execute_result",
          "data": {
            "text/plain": [
              "array([[6, 1, 2, 3, 2, 1]])"
            ]
          },
          "metadata": {},
          "execution_count": 117
        }
      ]
    },
    {
      "cell_type": "code",
      "source": [
        "arr"
      ],
      "metadata": {
        "colab": {
          "base_uri": "https://localhost:8080/"
        },
        "id": "TsFU7dJE7Pns",
        "outputId": "83694a15-c8ab-43a3-b529-627fe4794307"
      },
      "execution_count": null,
      "outputs": [
        {
          "output_type": "execute_result",
          "data": {
            "text/plain": [
              "array([[6, 1],\n",
              "       [2, 3],\n",
              "       [2, 1]])"
            ]
          },
          "metadata": {},
          "execution_count": 118
        }
      ]
    },
    {
      "cell_type": "code",
      "source": [
        "np.reshape(arr,(2,3),'C') #--> Siguiendo en el lenguage C"
      ],
      "metadata": {
        "colab": {
          "base_uri": "https://localhost:8080/"
        },
        "id": "SNXLGy337TpB",
        "outputId": "dca8fd59-ed7a-4175-9338-5c52cb9013e1"
      },
      "execution_count": null,
      "outputs": [
        {
          "output_type": "execute_result",
          "data": {
            "text/plain": [
              "array([[6, 1, 2],\n",
              "       [3, 2, 1]])"
            ]
          },
          "metadata": {},
          "execution_count": 119
        }
      ]
    },
    {
      "cell_type": "code",
      "source": [
        "np.reshape(arr,(2,3),'F') #--> Siguiendo en el lenguage Fortran"
      ],
      "metadata": {
        "colab": {
          "base_uri": "https://localhost:8080/"
        },
        "id": "ByfBvY3O7Ydx",
        "outputId": "2cc863e3-b637-45dd-96ea-14b8a63fc2f1"
      },
      "execution_count": null,
      "outputs": [
        {
          "output_type": "execute_result",
          "data": {
            "text/plain": [
              "array([[6, 2, 3],\n",
              "       [2, 1, 1]])"
            ]
          },
          "metadata": {},
          "execution_count": 120
        }
      ]
    },
    {
      "cell_type": "code",
      "source": [
        "np.reshape(arr,(2,3),'A') #--> Siguiendo en el lenguage en mi PC"
      ],
      "metadata": {
        "colab": {
          "base_uri": "https://localhost:8080/"
        },
        "id": "vkQvHHkY7gxZ",
        "outputId": "9cddad9c-b468-4356-8968-d0a1afff250b"
      },
      "execution_count": null,
      "outputs": [
        {
          "output_type": "execute_result",
          "data": {
            "text/plain": [
              "array([[6, 1, 2],\n",
              "       [3, 2, 1]])"
            ]
          },
          "metadata": {},
          "execution_count": 121
        }
      ]
    },
    {
      "cell_type": "markdown",
      "source": [
        "## Funciones principales de Numpy"
      ],
      "metadata": {
        "id": "Rm6lL77w8On9"
      }
    },
    {
      "cell_type": "code",
      "source": [
        "import numpy as np"
      ],
      "metadata": {
        "id": "fCHE5b068OX0"
      },
      "execution_count": null,
      "outputs": []
    },
    {
      "cell_type": "code",
      "source": [
        "arrr = np.random.randint(1,20,10)"
      ],
      "metadata": {
        "id": "ZOqBdU6K8HAU"
      },
      "execution_count": null,
      "outputs": []
    },
    {
      "cell_type": "code",
      "source": [
        "matrizz = arrr.reshape(2,5)\n",
        "matrizz"
      ],
      "metadata": {
        "colab": {
          "base_uri": "https://localhost:8080/"
        },
        "id": "-dV-5Njk8ewW",
        "outputId": "480c0795-0743-408f-9cf2-127314aab3ec"
      },
      "execution_count": null,
      "outputs": [
        {
          "output_type": "execute_result",
          "data": {
            "text/plain": [
              "array([[15,  8,  2, 16,  3],\n",
              "       [15, 15,  9,  9,  6]])"
            ]
          },
          "metadata": {},
          "execution_count": 133
        }
      ]
    },
    {
      "cell_type": "code",
      "source": [
        "arrr.max()"
      ],
      "metadata": {
        "colab": {
          "base_uri": "https://localhost:8080/"
        },
        "id": "AZO-2uNS8qXf",
        "outputId": "04fa1e0f-538f-4a9a-f588-1ef4e9365535"
      },
      "execution_count": null,
      "outputs": [
        {
          "output_type": "execute_result",
          "data": {
            "text/plain": [
              "16"
            ]
          },
          "metadata": {},
          "execution_count": 130
        }
      ]
    },
    {
      "cell_type": "code",
      "source": [
        "matrizz.max(1) # Sacando por el eje de filas"
      ],
      "metadata": {
        "colab": {
          "base_uri": "https://localhost:8080/"
        },
        "id": "OHNucvTu8xx0",
        "outputId": "01d39044-907e-44ed-991e-d9e73c58a427"
      },
      "execution_count": null,
      "outputs": [
        {
          "output_type": "execute_result",
          "data": {
            "text/plain": [
              "array([16, 15])"
            ]
          },
          "metadata": {},
          "execution_count": 135
        }
      ]
    },
    {
      "cell_type": "code",
      "source": [
        "matrizz.max(0)# Sacando por el eje de columnas"
      ],
      "metadata": {
        "colab": {
          "base_uri": "https://localhost:8080/"
        },
        "id": "PL9A1sge8xu0",
        "outputId": "134de13f-168b-4093-d1a2-05e606f4f6e5"
      },
      "execution_count": null,
      "outputs": [
        {
          "output_type": "execute_result",
          "data": {
            "text/plain": [
              "array([15, 15,  9, 16,  6])"
            ]
          },
          "metadata": {},
          "execution_count": 137
        }
      ]
    },
    {
      "cell_type": "code",
      "source": [
        "arrr.argmax() #Indice en el que se encuentra el valor mas grand de nuestro array"
      ],
      "metadata": {
        "colab": {
          "base_uri": "https://localhost:8080/"
        },
        "id": "_ldSqPEo9JDc",
        "outputId": "a36eb8cd-e901-4c30-82a7-5429f48daae8"
      },
      "execution_count": null,
      "outputs": [
        {
          "output_type": "execute_result",
          "data": {
            "text/plain": [
              "3"
            ]
          },
          "metadata": {},
          "execution_count": 138
        }
      ]
    },
    {
      "cell_type": "code",
      "source": [
        "matrizz.argmax(0)"
      ],
      "metadata": {
        "colab": {
          "base_uri": "https://localhost:8080/"
        },
        "id": "LSXd-KlH9Pqu",
        "outputId": "dbe770e6-de4a-4bfa-8a01-8e757e3f9e46"
      },
      "execution_count": null,
      "outputs": [
        {
          "output_type": "execute_result",
          "data": {
            "text/plain": [
              "array([0, 1, 1, 0, 1])"
            ]
          },
          "metadata": {},
          "execution_count": 139
        }
      ]
    },
    {
      "cell_type": "code",
      "source": [
        "arrr.min()"
      ],
      "metadata": {
        "colab": {
          "base_uri": "https://localhost:8080/"
        },
        "id": "CngEIHSL9e0w",
        "outputId": "7fd1b21b-73fa-4aca-dc90-7bcdd9838a26"
      },
      "execution_count": null,
      "outputs": [
        {
          "output_type": "execute_result",
          "data": {
            "text/plain": [
              "2"
            ]
          },
          "metadata": {},
          "execution_count": 140
        }
      ]
    },
    {
      "cell_type": "code",
      "source": [
        "matrizz.min(0)"
      ],
      "metadata": {
        "colab": {
          "base_uri": "https://localhost:8080/"
        },
        "id": "u9u6BzFK9iKi",
        "outputId": "1188ebee-ca00-48eb-b27c-c4e7b133fb97"
      },
      "execution_count": null,
      "outputs": [
        {
          "output_type": "execute_result",
          "data": {
            "text/plain": [
              "array([15,  8,  2,  9,  3])"
            ]
          },
          "metadata": {},
          "execution_count": 141
        }
      ]
    },
    {
      "cell_type": "code",
      "source": [
        "matrizz.argmin(0)"
      ],
      "metadata": {
        "colab": {
          "base_uri": "https://localhost:8080/"
        },
        "id": "95DR8mvt9k3o",
        "outputId": "66c6a6d3-e922-4d55-e145-8c7b40504795"
      },
      "execution_count": null,
      "outputs": [
        {
          "output_type": "execute_result",
          "data": {
            "text/plain": [
              "array([0, 0, 0, 1, 0])"
            ]
          },
          "metadata": {},
          "execution_count": 142
        }
      ]
    },
    {
      "cell_type": "code",
      "source": [
        "arrr"
      ],
      "metadata": {
        "colab": {
          "base_uri": "https://localhost:8080/"
        },
        "id": "CzWmKTO79z5f",
        "outputId": "0cfde58a-32ac-4735-9137-2c4f601efee9"
      },
      "execution_count": null,
      "outputs": [
        {
          "output_type": "execute_result",
          "data": {
            "text/plain": [
              "array([15,  8,  2, 16,  3, 15, 15,  9,  9,  6])"
            ]
          },
          "metadata": {},
          "execution_count": 143
        }
      ]
    },
    {
      "cell_type": "code",
      "source": [
        "arrr.ptp() # Diferencia entre el pico mas alto y el pico mas bajo. "
      ],
      "metadata": {
        "colab": {
          "base_uri": "https://localhost:8080/"
        },
        "id": "ROTXuV8W9oCu",
        "outputId": "4e115312-6367-4511-d65a-685b471ca2b5"
      },
      "execution_count": null,
      "outputs": [
        {
          "output_type": "execute_result",
          "data": {
            "text/plain": [
              "14"
            ]
          },
          "metadata": {},
          "execution_count": 144
        }
      ]
    },
    {
      "cell_type": "code",
      "source": [
        "matrizz"
      ],
      "metadata": {
        "colab": {
          "base_uri": "https://localhost:8080/"
        },
        "id": "pextx1Qr-Rwu",
        "outputId": "bb4d3965-7471-4215-c771-fe4fe7e8a38f"
      },
      "execution_count": null,
      "outputs": [
        {
          "output_type": "execute_result",
          "data": {
            "text/plain": [
              "array([[15,  8,  2, 16,  3],\n",
              "       [15, 15,  9,  9,  6]])"
            ]
          },
          "metadata": {},
          "execution_count": 148
        }
      ]
    },
    {
      "cell_type": "code",
      "source": [
        "matrizz.ptp(0)# Diferencia entre el pico mas alto y el pico mas bajo por columna. "
      ],
      "metadata": {
        "colab": {
          "base_uri": "https://localhost:8080/"
        },
        "id": "yXtgQ5P293Yx",
        "outputId": "b6699cb8-e371-4d1c-9f66-27ce7d9826a9"
      },
      "execution_count": null,
      "outputs": [
        {
          "output_type": "execute_result",
          "data": {
            "text/plain": [
              "array([0, 7, 7, 7, 3])"
            ]
          },
          "metadata": {},
          "execution_count": 147
        }
      ]
    },
    {
      "cell_type": "code",
      "source": [
        "np.percentile(arrr, 50)"
      ],
      "metadata": {
        "colab": {
          "base_uri": "https://localhost:8080/"
        },
        "id": "2-la7FSD-ONZ",
        "outputId": "7bd640f8-38e1-4a98-ece3-69c68998a42b"
      },
      "execution_count": null,
      "outputs": [
        {
          "output_type": "execute_result",
          "data": {
            "text/plain": [
              "9.0"
            ]
          },
          "metadata": {},
          "execution_count": 150
        }
      ]
    },
    {
      "cell_type": "code",
      "source": [
        "np.percentile(arrr, 0)"
      ],
      "metadata": {
        "colab": {
          "base_uri": "https://localhost:8080/"
        },
        "id": "zyMwcr2L-Z-C",
        "outputId": "ce57b8e1-74e6-4fd1-b700-9957e1f9739a"
      },
      "execution_count": null,
      "outputs": [
        {
          "output_type": "execute_result",
          "data": {
            "text/plain": [
              "2.0"
            ]
          },
          "metadata": {},
          "execution_count": 151
        }
      ]
    },
    {
      "cell_type": "code",
      "source": [
        "np.percentile(arrr, 100)"
      ],
      "metadata": {
        "colab": {
          "base_uri": "https://localhost:8080/"
        },
        "id": "RCtD6As7-kyY",
        "outputId": "179930c8-3f95-41fd-8078-6a7d3abbeeab"
      },
      "execution_count": null,
      "outputs": [
        {
          "output_type": "execute_result",
          "data": {
            "text/plain": [
              "16.0"
            ]
          },
          "metadata": {},
          "execution_count": 152
        }
      ]
    },
    {
      "cell_type": "code",
      "source": [
        "arrr.sort()\n",
        "arrr"
      ],
      "metadata": {
        "colab": {
          "base_uri": "https://localhost:8080/"
        },
        "id": "QefmL-Vr-ngr",
        "outputId": "b4f3b257-4b0d-4bfb-df94-bf5b44f24ff6"
      },
      "execution_count": null,
      "outputs": [
        {
          "output_type": "execute_result",
          "data": {
            "text/plain": [
              "array([ 2,  3,  6,  8,  9,  9, 15, 15, 15, 16])"
            ]
          },
          "metadata": {},
          "execution_count": 153
        }
      ]
    },
    {
      "cell_type": "code",
      "source": [
        "np.median(arrr)"
      ],
      "metadata": {
        "colab": {
          "base_uri": "https://localhost:8080/"
        },
        "id": "ahVjIArF-rn4",
        "outputId": "e478c4a0-c6d3-4907-f90e-c8a44c904fff"
      },
      "execution_count": null,
      "outputs": [
        {
          "output_type": "execute_result",
          "data": {
            "text/plain": [
              "9.0"
            ]
          },
          "metadata": {},
          "execution_count": 154
        }
      ]
    },
    {
      "cell_type": "code",
      "source": [
        "np.median(matrizz,0) # Por el eje de columna"
      ],
      "metadata": {
        "colab": {
          "base_uri": "https://localhost:8080/"
        },
        "id": "z8Bl7JHF-623",
        "outputId": "17fb1815-0d44-4ebe-9477-e41f70b0c0f3"
      },
      "execution_count": null,
      "outputs": [
        {
          "output_type": "execute_result",
          "data": {
            "text/plain": [
              "array([ 5.5,  9. , 10.5, 11.5, 12.5])"
            ]
          },
          "metadata": {},
          "execution_count": 157
        }
      ]
    },
    {
      "cell_type": "code",
      "source": [
        "np.std(arrr)"
      ],
      "metadata": {
        "colab": {
          "base_uri": "https://localhost:8080/"
        },
        "id": "1tCs8PUf_IYf",
        "outputId": "b7be505d-7849-4eb6-d387-4899e60f052c"
      },
      "execution_count": null,
      "outputs": [
        {
          "output_type": "execute_result",
          "data": {
            "text/plain": [
              "4.955804677345546"
            ]
          },
          "metadata": {},
          "execution_count": 159
        }
      ]
    },
    {
      "cell_type": "code",
      "source": [
        "np.var(arrr)"
      ],
      "metadata": {
        "colab": {
          "base_uri": "https://localhost:8080/"
        },
        "id": "Sa1nzz19_TI0",
        "outputId": "d69bbd06-8ce4-4ac7-aa99-0b814b9658cd"
      },
      "execution_count": null,
      "outputs": [
        {
          "output_type": "execute_result",
          "data": {
            "text/plain": [
              "24.56"
            ]
          },
          "metadata": {},
          "execution_count": 160
        }
      ]
    },
    {
      "cell_type": "code",
      "source": [
        "np.std(arrr)**2"
      ],
      "metadata": {
        "colab": {
          "base_uri": "https://localhost:8080/"
        },
        "id": "lr9wgyyZ_Zzt",
        "outputId": "680e24af-f6cf-46a6-f8b4-85e96b4a4616"
      },
      "execution_count": null,
      "outputs": [
        {
          "output_type": "execute_result",
          "data": {
            "text/plain": [
              "24.559999999999995"
            ]
          },
          "metadata": {},
          "execution_count": 161
        }
      ]
    },
    {
      "cell_type": "code",
      "source": [
        "np.mean(arrr)"
      ],
      "metadata": {
        "colab": {
          "base_uri": "https://localhost:8080/"
        },
        "id": "Bdo6r_MK_dFq",
        "outputId": "a1103e25-a6fa-4361-d256-a9193315788a"
      },
      "execution_count": null,
      "outputs": [
        {
          "output_type": "execute_result",
          "data": {
            "text/plain": [
              "9.8"
            ]
          },
          "metadata": {},
          "execution_count": 162
        }
      ]
    },
    {
      "cell_type": "code",
      "source": [
        "a = np.array([[1,2],[3,4]])\n",
        "b = np.array([4,6],ndmin=2)"
      ],
      "metadata": {
        "id": "di7zYBB6D0dw"
      },
      "execution_count": null,
      "outputs": []
    },
    {
      "cell_type": "code",
      "source": [
        "np.concatenate((a,b),axis=0)"
      ],
      "metadata": {
        "colab": {
          "base_uri": "https://localhost:8080/"
        },
        "id": "d6AjGpHwECkc",
        "outputId": "eba8d5f6-0f12-408c-d0f9-6bcabee2b065"
      },
      "execution_count": null,
      "outputs": [
        {
          "output_type": "execute_result",
          "data": {
            "text/plain": [
              "array([[1, 2],\n",
              "       [3, 4],\n",
              "       [4, 6]])"
            ]
          },
          "metadata": {},
          "execution_count": 173
        }
      ]
    },
    {
      "cell_type": "code",
      "source": [
        "a.ndim"
      ],
      "metadata": {
        "colab": {
          "base_uri": "https://localhost:8080/"
        },
        "id": "ErMGnacOEC5Y",
        "outputId": "58d233db-9afa-44b3-f64d-f97d084cf05e"
      },
      "execution_count": null,
      "outputs": [
        {
          "output_type": "execute_result",
          "data": {
            "text/plain": [
              "2"
            ]
          },
          "metadata": {},
          "execution_count": 170
        }
      ]
    },
    {
      "cell_type": "code",
      "source": [
        "np.concatenate((a,b.T),axis=1)"
      ],
      "metadata": {
        "id": "4PYjBAn8EaUw",
        "outputId": "44e3d7df-8f29-4b23-ac0d-9400e986535a",
        "colab": {
          "base_uri": "https://localhost:8080/"
        }
      },
      "execution_count": null,
      "outputs": [
        {
          "output_type": "execute_result",
          "data": {
            "text/plain": [
              "array([[1, 2, 4],\n",
              "       [3, 4, 6]])"
            ]
          },
          "metadata": {},
          "execution_count": 175
        }
      ]
    },
    {
      "cell_type": "markdown",
      "source": [
        "## Copy"
      ],
      "metadata": {
        "id": "7A9Sg1x_IdJ6"
      }
    },
    {
      "cell_type": "markdown",
      "source": [
        ".copy() nos permite copiar un array de NumPy en otra variable de tal forma que al modificar el nuevo array los cambios no se vean reflejados en array original."
      ],
      "metadata": {
        "id": "nxZ4OO34KHwZ"
      }
    },
    {
      "cell_type": "code",
      "source": [
        "import numpy as np"
      ],
      "metadata": {
        "id": "sNc-ObQsEsYa"
      },
      "execution_count": 1,
      "outputs": []
    },
    {
      "cell_type": "code",
      "source": [
        "arr7=np.arange(0,11)\n",
        "arr7"
      ],
      "metadata": {
        "colab": {
          "base_uri": "https://localhost:8080/"
        },
        "id": "JlcjLC0zIz3y",
        "outputId": "3d33626e-f62f-44e8-b0d7-521faa715dec"
      },
      "execution_count": 2,
      "outputs": [
        {
          "output_type": "execute_result",
          "data": {
            "text/plain": [
              "array([ 0,  1,  2,  3,  4,  5,  6,  7,  8,  9, 10])"
            ]
          },
          "metadata": {},
          "execution_count": 2
        }
      ]
    },
    {
      "cell_type": "code",
      "source": [
        "trozo_de_arr7=arr7[0:6]"
      ],
      "metadata": {
        "id": "11pRqxRNIz1R"
      },
      "execution_count": 4,
      "outputs": []
    },
    {
      "cell_type": "code",
      "source": [
        "trozo_de_arr7[:]=0\n",
        "trozo_de_arr7"
      ],
      "metadata": {
        "colab": {
          "base_uri": "https://localhost:8080/"
        },
        "id": "tY8SZQf5JLED",
        "outputId": "34be3426-0640-431c-fbf1-8b534c31111f"
      },
      "execution_count": 6,
      "outputs": [
        {
          "output_type": "execute_result",
          "data": {
            "text/plain": [
              "array([0, 0, 0, 0, 0, 0])"
            ]
          },
          "metadata": {},
          "execution_count": 6
        }
      ]
    },
    {
      "cell_type": "code",
      "source": [
        "arr7 # IMPORTANTE: VER QUE EL ARRAY ORIGINAL SE ME CAMBIÓ A PESAR DE QUE LOS CAMBIOS LOS HICE EN EL TROZO DE ARRAY QUE HABIA SACADO APARTE. "
      ],
      "metadata": {
        "colab": {
          "base_uri": "https://localhost:8080/"
        },
        "id": "QbsQse8zJQmC",
        "outputId": "e7a607a7-8e59-4641-b788-178ef39c433d"
      },
      "execution_count": 7,
      "outputs": [
        {
          "output_type": "execute_result",
          "data": {
            "text/plain": [
              "array([ 0,  0,  0,  0,  0,  0,  6,  7,  8,  9, 10])"
            ]
          },
          "metadata": {},
          "execution_count": 7
        }
      ]
    },
    {
      "cell_type": "markdown",
      "source": [
        "Para evitar sitauciones como la anterior, DEBEMOS utilizar el comando copy.\n",
        "Ejemplo:"
      ],
      "metadata": {
        "id": "ktfKGKqfKakT"
      }
    },
    {
      "cell_type": "code",
      "source": [
        "arr7_copy = arr7.copy()"
      ],
      "metadata": {
        "id": "qs65ha7TJbos"
      },
      "execution_count": 10,
      "outputs": []
    },
    {
      "cell_type": "code",
      "source": [
        "arr7_copy[:] = 100"
      ],
      "metadata": {
        "id": "QxeEeYCOJo78"
      },
      "execution_count": 11,
      "outputs": []
    },
    {
      "cell_type": "code",
      "source": [
        "arr7_copy"
      ],
      "metadata": {
        "colab": {
          "base_uri": "https://localhost:8080/"
        },
        "id": "KmB3oSewJsYt",
        "outputId": "782cfb26-4998-40fb-c75d-311128323ed8"
      },
      "execution_count": 12,
      "outputs": [
        {
          "output_type": "execute_result",
          "data": {
            "text/plain": [
              "array([100, 100, 100, 100, 100, 100, 100, 100, 100, 100, 100])"
            ]
          },
          "metadata": {},
          "execution_count": 12
        }
      ]
    },
    {
      "cell_type": "code",
      "source": [
        "arr7"
      ],
      "metadata": {
        "colab": {
          "base_uri": "https://localhost:8080/"
        },
        "id": "87N3FsW1Jxqx",
        "outputId": "96633c53-d995-4da1-9828-0105851e68a4"
      },
      "execution_count": 13,
      "outputs": [
        {
          "output_type": "execute_result",
          "data": {
            "text/plain": [
              "array([ 0,  0,  0,  0,  0,  0,  6,  7,  8,  9, 10])"
            ]
          },
          "metadata": {},
          "execution_count": 13
        }
      ]
    },
    {
      "cell_type": "markdown",
      "source": [
        "## Condiciones"
      ],
      "metadata": {
        "id": "O1oEOrIVKpqC"
      }
    },
    {
      "cell_type": "code",
      "source": [
        "import numpy as np"
      ],
      "metadata": {
        "id": "DSPRwuRwJy-Y"
      },
      "execution_count": 14,
      "outputs": []
    },
    {
      "cell_type": "code",
      "source": [
        "arr8 = np.linspace(1,10,10, dtype='int8')\n",
        "arr8"
      ],
      "metadata": {
        "colab": {
          "base_uri": "https://localhost:8080/"
        },
        "id": "S9xV9D7rL22R",
        "outputId": "c7ee510b-90fe-4d05-a184-f5ccf66aa6c8"
      },
      "execution_count": 17,
      "outputs": [
        {
          "output_type": "execute_result",
          "data": {
            "text/plain": [
              "array([ 1,  2,  3,  4,  5,  6,  7,  8,  9, 10], dtype=int8)"
            ]
          },
          "metadata": {},
          "execution_count": 17
        }
      ]
    },
    {
      "cell_type": "code",
      "source": [
        "indices_cond = arr8 > 5\n",
        "indices_cond"
      ],
      "metadata": {
        "colab": {
          "base_uri": "https://localhost:8080/"
        },
        "id": "AmsbdXKQL7qt",
        "outputId": "eefa7d4c-6c56-4e94-8fd0-bcdac45d7ab7"
      },
      "execution_count": 19,
      "outputs": [
        {
          "output_type": "execute_result",
          "data": {
            "text/plain": [
              "array([False, False, False, False, False,  True,  True,  True,  True,\n",
              "        True])"
            ]
          },
          "metadata": {},
          "execution_count": 19
        }
      ]
    },
    {
      "cell_type": "code",
      "source": [
        "arr8[indices_cond]"
      ],
      "metadata": {
        "colab": {
          "base_uri": "https://localhost:8080/"
        },
        "id": "q9-5C5APMGKY",
        "outputId": "84800a2e-e359-41d1-9c2b-611f2454ef9f"
      },
      "execution_count": 21,
      "outputs": [
        {
          "output_type": "execute_result",
          "data": {
            "text/plain": [
              "array([ 6,  7,  8,  9, 10], dtype=int8)"
            ]
          },
          "metadata": {},
          "execution_count": 21
        }
      ]
    },
    {
      "cell_type": "code",
      "source": [
        "arr8[arr8 > 5]"
      ],
      "metadata": {
        "colab": {
          "base_uri": "https://localhost:8080/"
        },
        "id": "EFHQLHzRMXmJ",
        "outputId": "e2a0f1e8-2553-493b-ed19-29048d2a636e"
      },
      "execution_count": 22,
      "outputs": [
        {
          "output_type": "execute_result",
          "data": {
            "text/plain": [
              "array([ 6,  7,  8,  9, 10], dtype=int8)"
            ]
          },
          "metadata": {},
          "execution_count": 22
        }
      ]
    },
    {
      "cell_type": "code",
      "source": [
        "arr8[(arr8 > 5) & (arr8 < 9)]"
      ],
      "metadata": {
        "colab": {
          "base_uri": "https://localhost:8080/"
        },
        "id": "J-eXThMrMdZg",
        "outputId": "de05b9b6-ec5d-4af0-d878-9414276270cf"
      },
      "execution_count": 24,
      "outputs": [
        {
          "output_type": "execute_result",
          "data": {
            "text/plain": [
              "array([6, 7, 8], dtype=int8)"
            ]
          },
          "metadata": {},
          "execution_count": 24
        }
      ]
    },
    {
      "cell_type": "code",
      "source": [
        "arr8[arr8>5] = 99\n",
        "arr8"
      ],
      "metadata": {
        "colab": {
          "base_uri": "https://localhost:8080/"
        },
        "id": "bJWLirXzMj9a",
        "outputId": "e4d9fef1-9583-484b-e528-be61603f31d6"
      },
      "execution_count": 27,
      "outputs": [
        {
          "output_type": "execute_result",
          "data": {
            "text/plain": [
              "array([ 1,  2,  3,  4,  5, 99, 99, 99, 99, 99], dtype=int8)"
            ]
          },
          "metadata": {},
          "execution_count": 27
        }
      ]
    },
    {
      "cell_type": "code",
      "source": [
        "arr8[arr8 == 99]"
      ],
      "metadata": {
        "colab": {
          "base_uri": "https://localhost:8080/"
        },
        "id": "Ufqwk9lkMvtl",
        "outputId": "3b1439a3-7d42-428b-cf17-e31fdd9aedd7"
      },
      "execution_count": 28,
      "outputs": [
        {
          "output_type": "execute_result",
          "data": {
            "text/plain": [
              "array([99, 99, 99, 99, 99], dtype=int8)"
            ]
          },
          "metadata": {},
          "execution_count": 28
        }
      ]
    },
    {
      "cell_type": "markdown",
      "source": [
        "## Operaciones"
      ],
      "metadata": {
        "id": "vNh0a1g-NCZK"
      }
    },
    {
      "cell_type": "code",
      "source": [
        "import numpy as np"
      ],
      "metadata": {
        "id": "w3RGZ7DPNCIK"
      },
      "execution_count": 29,
      "outputs": []
    },
    {
      "cell_type": "code",
      "source": [
        "lista = [1, 2]"
      ],
      "metadata": {
        "id": "K9bYu7BQM21I"
      },
      "execution_count": 30,
      "outputs": []
    },
    {
      "cell_type": "code",
      "source": [
        "lista * 2"
      ],
      "metadata": {
        "colab": {
          "base_uri": "https://localhost:8080/"
        },
        "id": "N59X3uXxP4nA",
        "outputId": "4e704b33-5809-4217-cbed-cf7c8a87b5c3"
      },
      "execution_count": 31,
      "outputs": [
        {
          "output_type": "execute_result",
          "data": {
            "text/plain": [
              "[1, 2, 1, 2]"
            ]
          },
          "metadata": {},
          "execution_count": 31
        }
      ]
    },
    {
      "cell_type": "code",
      "source": [
        "arr9 = np.arange(0,10)\n",
        "arr9c = arr9.copy()"
      ],
      "metadata": {
        "id": "eVzoXpJxP8dJ"
      },
      "execution_count": 35,
      "outputs": []
    },
    {
      "cell_type": "code",
      "source": [
        "arr9"
      ],
      "metadata": {
        "colab": {
          "base_uri": "https://localhost:8080/"
        },
        "id": "FMfou2LPQKlt",
        "outputId": "21eaafe9-d1e0-48c1-8754-bc9a98f75e5e"
      },
      "execution_count": 36,
      "outputs": [
        {
          "output_type": "execute_result",
          "data": {
            "text/plain": [
              "array([0, 1, 2, 3, 4, 5, 6, 7, 8, 9])"
            ]
          },
          "metadata": {},
          "execution_count": 36
        }
      ]
    },
    {
      "cell_type": "code",
      "source": [
        "arr9c * 2"
      ],
      "metadata": {
        "colab": {
          "base_uri": "https://localhost:8080/"
        },
        "id": "xUy_JVmPQ6py",
        "outputId": "c4963be9-a0e8-45f7-dfe2-83051152b3e1"
      },
      "execution_count": 37,
      "outputs": [
        {
          "output_type": "execute_result",
          "data": {
            "text/plain": [
              "array([ 0,  2,  4,  6,  8, 10, 12, 14, 16, 18])"
            ]
          },
          "metadata": {},
          "execution_count": 37
        }
      ]
    },
    {
      "cell_type": "code",
      "source": [
        "arr9c + 2"
      ],
      "metadata": {
        "colab": {
          "base_uri": "https://localhost:8080/"
        },
        "id": "k1A79EtZQ81E",
        "outputId": "fde268aa-5c57-4472-f72a-8270eb20e945"
      },
      "execution_count": 38,
      "outputs": [
        {
          "output_type": "execute_result",
          "data": {
            "text/plain": [
              "array([ 2,  3,  4,  5,  6,  7,  8,  9, 10, 11])"
            ]
          },
          "metadata": {},
          "execution_count": 38
        }
      ]
    },
    {
      "cell_type": "code",
      "source": [
        "1/arr9c"
      ],
      "metadata": {
        "colab": {
          "base_uri": "https://localhost:8080/"
        },
        "id": "I-o8vT8jRC68",
        "outputId": "d596bb71-f277-4ebb-d8aa-4f6da4a1d624"
      },
      "execution_count": 39,
      "outputs": [
        {
          "output_type": "stream",
          "name": "stderr",
          "text": [
            "/usr/local/lib/python3.7/dist-packages/ipykernel_launcher.py:1: RuntimeWarning: divide by zero encountered in true_divide\n",
            "  \"\"\"Entry point for launching an IPython kernel.\n"
          ]
        },
        {
          "output_type": "execute_result",
          "data": {
            "text/plain": [
              "array([       inf, 1.        , 0.5       , 0.33333333, 0.25      ,\n",
              "       0.2       , 0.16666667, 0.14285714, 0.125     , 0.11111111])"
            ]
          },
          "metadata": {},
          "execution_count": 39
        }
      ]
    },
    {
      "cell_type": "code",
      "source": [
        "arr9c ** 2"
      ],
      "metadata": {
        "colab": {
          "base_uri": "https://localhost:8080/"
        },
        "id": "js_p0jIvRGu-",
        "outputId": "d350b69d-a8d2-450e-cdae-fe646aa81012"
      },
      "execution_count": 40,
      "outputs": [
        {
          "output_type": "execute_result",
          "data": {
            "text/plain": [
              "array([ 0,  1,  4,  9, 16, 25, 36, 49, 64, 81])"
            ]
          },
          "metadata": {},
          "execution_count": 40
        }
      ]
    },
    {
      "cell_type": "code",
      "source": [
        "arr9c + arr9c"
      ],
      "metadata": {
        "colab": {
          "base_uri": "https://localhost:8080/"
        },
        "id": "W7VvRzP1RRqA",
        "outputId": "5aff152a-830b-4abf-ff0c-42e751723c57"
      },
      "execution_count": 41,
      "outputs": [
        {
          "output_type": "execute_result",
          "data": {
            "text/plain": [
              "array([ 0,  2,  4,  6,  8, 10, 12, 14, 16, 18])"
            ]
          },
          "metadata": {},
          "execution_count": 41
        }
      ]
    },
    {
      "cell_type": "code",
      "source": [
        "arr9c * arr9c"
      ],
      "metadata": {
        "colab": {
          "base_uri": "https://localhost:8080/"
        },
        "id": "YaFHWt2bRU1O",
        "outputId": "30a32e80-2f41-48f0-925c-312fc8d0ae6e"
      },
      "execution_count": 42,
      "outputs": [
        {
          "output_type": "execute_result",
          "data": {
            "text/plain": [
              "array([ 0,  1,  4,  9, 16, 25, 36, 49, 64, 81])"
            ]
          },
          "metadata": {},
          "execution_count": 42
        }
      ]
    },
    {
      "cell_type": "code",
      "source": [
        "arr9c / arr9c"
      ],
      "metadata": {
        "colab": {
          "base_uri": "https://localhost:8080/"
        },
        "id": "bU1dHwL-RaSf",
        "outputId": "728c63cc-7b41-4bd7-da71-5359557e8031"
      },
      "execution_count": 43,
      "outputs": [
        {
          "output_type": "stream",
          "name": "stderr",
          "text": [
            "/usr/local/lib/python3.7/dist-packages/ipykernel_launcher.py:1: RuntimeWarning: invalid value encountered in true_divide\n",
            "  \"\"\"Entry point for launching an IPython kernel.\n"
          ]
        },
        {
          "output_type": "execute_result",
          "data": {
            "text/plain": [
              "array([nan,  1.,  1.,  1.,  1.,  1.,  1.,  1.,  1.,  1.])"
            ]
          },
          "metadata": {},
          "execution_count": 43
        }
      ]
    },
    {
      "cell_type": "code",
      "source": [
        "matriz = arr9c.reshape(2,5)\n",
        "matriz2 = matriz.copy()"
      ],
      "metadata": {
        "id": "fVkbDt_bRbi3"
      },
      "execution_count": 45,
      "outputs": []
    },
    {
      "cell_type": "code",
      "source": [
        "matriz"
      ],
      "metadata": {
        "colab": {
          "base_uri": "https://localhost:8080/"
        },
        "id": "E-NCL6FHRmXn",
        "outputId": "28228729-b114-47d9-a1d0-bec3fd2d068c"
      },
      "execution_count": 46,
      "outputs": [
        {
          "output_type": "execute_result",
          "data": {
            "text/plain": [
              "array([[0, 1, 2, 3, 4],\n",
              "       [5, 6, 7, 8, 9]])"
            ]
          },
          "metadata": {},
          "execution_count": 46
        }
      ]
    },
    {
      "cell_type": "code",
      "source": [
        "matriz2 + matriz2"
      ],
      "metadata": {
        "colab": {
          "base_uri": "https://localhost:8080/"
        },
        "id": "J_3LJVnJRgKK",
        "outputId": "eabe520c-78f4-4e10-9693-7a74285fab87"
      },
      "execution_count": 47,
      "outputs": [
        {
          "output_type": "execute_result",
          "data": {
            "text/plain": [
              "array([[ 0,  2,  4,  6,  8],\n",
              "       [10, 12, 14, 16, 18]])"
            ]
          },
          "metadata": {},
          "execution_count": 47
        }
      ]
    },
    {
      "cell_type": "code",
      "source": [
        "matriz2 * matriz2"
      ],
      "metadata": {
        "colab": {
          "base_uri": "https://localhost:8080/"
        },
        "id": "hfBw04yaRouW",
        "outputId": "3431d554-b620-4af0-be52-d9fdbd8cb650"
      },
      "execution_count": 48,
      "outputs": [
        {
          "output_type": "execute_result",
          "data": {
            "text/plain": [
              "array([[ 0,  1,  4,  9, 16],\n",
              "       [25, 36, 49, 64, 81]])"
            ]
          },
          "metadata": {},
          "execution_count": 48
        }
      ]
    },
    {
      "cell_type": "code",
      "source": [
        "matriz2 - matriz2"
      ],
      "metadata": {
        "colab": {
          "base_uri": "https://localhost:8080/"
        },
        "id": "nrgjZzXYRszN",
        "outputId": "a6d324ab-d3b2-4730-d2b9-362dc7516a46"
      },
      "execution_count": 50,
      "outputs": [
        {
          "output_type": "execute_result",
          "data": {
            "text/plain": [
              "array([[0, 0, 0, 0, 0],\n",
              "       [0, 0, 0, 0, 0]])"
            ]
          },
          "metadata": {},
          "execution_count": 50
        }
      ]
    },
    {
      "cell_type": "code",
      "source": [
        "np.matmul(matriz2, matriz2.T) # Producto punto de matrices"
      ],
      "metadata": {
        "colab": {
          "base_uri": "https://localhost:8080/"
        },
        "id": "tsP93WG0Rt_l",
        "outputId": "b9fb18b5-f16e-4a67-c173-933a8d02b36b"
      },
      "execution_count": 54,
      "outputs": [
        {
          "output_type": "execute_result",
          "data": {
            "text/plain": [
              "array([[ 30,  80],\n",
              "       [ 80, 255]])"
            ]
          },
          "metadata": {},
          "execution_count": 54
        }
      ]
    },
    {
      "cell_type": "code",
      "source": [
        "matriz2 @ matriz2.T # Producto punto de matrices --> Otra forma de operar el producto punto. "
      ],
      "metadata": {
        "colab": {
          "base_uri": "https://localhost:8080/"
        },
        "id": "Jm1HRqHTR4qK",
        "outputId": "175449d2-517b-4fe1-c24c-80be23de1723"
      },
      "execution_count": 55,
      "outputs": [
        {
          "output_type": "execute_result",
          "data": {
            "text/plain": [
              "array([[ 30,  80],\n",
              "       [ 80, 255]])"
            ]
          },
          "metadata": {},
          "execution_count": 55
        }
      ]
    },
    {
      "cell_type": "code",
      "source": [
        ""
      ],
      "metadata": {
        "id": "0TQSJV7bSGKj"
      },
      "execution_count": null,
      "outputs": []
    }
  ]
}